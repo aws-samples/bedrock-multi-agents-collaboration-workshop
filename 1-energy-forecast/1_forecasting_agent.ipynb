{
 "cells": [
  {
   "cell_type": "markdown",
   "id": "fb8d63a2-913e-498a-a01a-5e66a39bf3e7",
   "metadata": {},
   "source": [
    "## Lab 1. Forecasting Agent"
   ]
  },
  {
   "cell_type": "markdown",
   "id": "63678eaa-8830-4cbe-94af-5ebd8b0e03e0",
   "metadata": {},
   "source": [
    "### Introduction\n",
    "\n",
    "In this notebook we show you how to create your first agent on Amazon Bedrock.\n",
    "\n",
    "[Amazon Bedrock Agents](https://aws.amazon.com/bedrock/agents/) streamline workflows and automate repetitive tasks.\n",
    "\n",
    "This agent will be a forecasting agent, where customers can ask the agent to return information about their current energy consumption and forecast of it.\n",
    "\n",
    "The following represents the piece of architecture that will be built on this module.\n",
    "\n",
    "![Architecture](../img/lab1-architecture.png)"
   ]
  },
  {
   "cell_type": "markdown",
   "id": "b3ba49fa-3293-4ea6-8dee-fb9f410c6481",
   "metadata": {},
   "source": [
    "### Setup\n",
    "\n",
    "Firstly, you are going to install boto3 dependencies from pip. Make sure to have version superior of **1.35.45**"
   ]
  },
  {
   "cell_type": "code",
   "execution_count": null,
   "id": "a2436bab",
   "metadata": {},
   "outputs": [],
   "source": [
    "!pip uninstall boto3 botocore awscli --yes"
   ]
  },
  {
   "cell_type": "code",
   "execution_count": null,
   "id": "1abeca2c-3181-42c3-adc5-70f993fc7ab0",
   "metadata": {
    "scrolled": true
   },
   "outputs": [],
   "source": [
    "# Install Dependencies from local package\n",
    "!pip install ../boto3/botocore-1.35.55-py3-none-any.whl \\\n",
    "    ../boto3/boto3-1.35.55-py3-none-any.whl \\\n",
    "    ../boto3/awscli-1.35.21-py3-none-any.whl --force-reinstall --no-cache"
   ]
  },
  {
   "cell_type": "code",
   "execution_count": null,
   "id": "d5224fb5",
   "metadata": {},
   "outputs": [],
   "source": [
    "# Only install if running locally\n",
    "!pip install pickleshare --force-reinstall --no-cache"
   ]
  },
  {
   "cell_type": "markdown",
   "id": "9cab0934-d025-47a2-a276-9d3fdb5a1d61",
   "metadata": {},
   "source": [
    "Restart kernel for packages to take effect"
   ]
  },
  {
   "cell_type": "code",
   "execution_count": null,
   "id": "c10d5b0b-fc4d-4733-a1cc-49ef6402785f",
   "metadata": {},
   "outputs": [],
   "source": [
    "import IPython\n",
    "\n",
    "IPython.Application.instance().kernel.do_shutdown(True)"
   ]
  },
  {
   "cell_type": "markdown",
   "id": "987fc8f7",
   "metadata": {},
   "source": [
    "Check if your boto3 version is superior than **1.35.45**"
   ]
  },
  {
   "cell_type": "code",
   "execution_count": null,
   "id": "4cef0a80",
   "metadata": {},
   "outputs": [],
   "source": [
    "!pip freeze | grep boto3"
   ]
  },
  {
   "cell_type": "markdown",
   "id": "ccf37dd5-bfaf-4563-a6ad-f9d7637c6e43",
   "metadata": {},
   "source": [
    "### Creating Agent\n",
    "\n",
    "On this section we're going to declare global variables that will be act as helpers during entire notebook and you will start to create your first agent."
   ]
  },
  {
   "cell_type": "code",
   "execution_count": 2,
   "id": "277a742a-5f17-4dfc-ac36-1b70ce8f4f7d",
   "metadata": {},
   "outputs": [],
   "source": [
    "import boto3\n",
    "import os\n",
    "import sys\n",
    "\n",
    "sts_client = boto3.client('sts')\n",
    "session = boto3.session.Session()\n",
    "\n",
    "account_id = sts_client.get_caller_identity()[\"Account\"]\n",
    "region = session.region_name\n",
    "\n",
    "agent_foundation_model = ['anthropic.claude-3-5-sonnet-20240620-v1:0']\n",
    "#agent_foundation_model = ['anthropic.claude-3-5-haiku-20241022-v1:0']"
   ]
  },
  {
   "cell_type": "code",
   "execution_count": 3,
   "id": "a27cc6c8-4faa-4adc-90c8-7ace112877e1",
   "metadata": {},
   "outputs": [],
   "source": [
    "forecast_agent_name = f\"forecast-agent-{account_id}\"\n",
    "\n",
    "forecast_lambda_name = f\"fn-forecast-agent-{account_id}\"\n",
    "\n",
    "forecast_agent_role_name = f'AmazonBedrockExecutionRoleForAgents_{forecast_agent_name}'"
   ]
  },
  {
   "cell_type": "markdown",
   "id": "e4518c17",
   "metadata": {},
   "source": [
    "On following section, we're adding `agents.py` on Python path, so the file can be recognized and invoked."
   ]
  },
  {
   "cell_type": "code",
   "execution_count": 4,
   "id": "21a3648b",
   "metadata": {},
   "outputs": [],
   "source": [
    "# Get the current file's directory\n",
    "current_dir = os.path.dirname(os.path.abspath('__file__'))\n",
    "\n",
    "parent_dir = os.path.dirname(current_dir)\n",
    "#print(parent_dir)\n",
    "\n",
    "# Add the parent directory to sys.path\n",
    "sys.path.append(parent_dir)"
   ]
  },
  {
   "cell_type": "markdown",
   "id": "9ad49f25",
   "metadata": {},
   "source": [
    "Now, you're going to import from helper file `agents.py` AgentsForAmazonBedrock helper class.\n",
    "\n",
    "This class is a helper totally focused on make labs experience smoothly. \n",
    "\n",
    "All interactions with Bedrock will be handled by this class.\n",
    "\n",
    "Following are methods that you're going to invoke on this lab:\n",
    "\n",
    "- create_agent: Create a new agent and respective IAM roles\n",
    "- add_action_group_with_lambda: Create a lambda function and add it as an action group for a previous created agent\n",
    "- create_agent_alias: Create an alias for this agent\n",
    "- invoke: Execute agent"
   ]
  },
  {
   "cell_type": "code",
   "execution_count": 5,
   "id": "bcad12b0",
   "metadata": {},
   "outputs": [],
   "source": [
    "from agent import AgentsForAmazonBedrock\n",
    "\n",
    "agents = AgentsForAmazonBedrock()"
   ]
  },
  {
   "cell_type": "markdown",
   "id": "5f65af49",
   "metadata": {},
   "source": [
    "Create the forecast agent"
   ]
  },
  {
   "cell_type": "code",
   "execution_count": 6,
   "id": "e1e168c8-180f-4977-96dd-d8006436208b",
   "metadata": {},
   "outputs": [
    {
     "data": {
      "text/plain": [
       "'SZXNA1ZDHD'"
      ]
     },
     "execution_count": 6,
     "metadata": {},
     "output_type": "execute_result"
    }
   ],
   "source": [
    "forecast_agent_id = agents.create_agent(\n",
    "    forecast_agent_name, \n",
    "    \"\"\"\n",
    "        You are a energy usage forecast bot. \n",
    "        You can retrieve energy consumption forecast for a specific user\n",
    "    \"\"\", \n",
    "    \"\"\"\n",
    "        You are a energy usage forecast bot.\n",
    "        You can retrieve energy consumption forecast for a specific user. \n",
    "        Resist the temptation to ask the user for input. Only do so after you have exhausted available actions. \n",
    "        Never ask the user for information that you already can retrieve yourself through available actions. \n",
    "\n",
    "    \"\"\",\n",
    "    agent_foundation_model\n",
    ")\n",
    "\n",
    "forecast_agent_id"
   ]
  },
  {
   "cell_type": "markdown",
   "id": "67dfcc57-5958-45e8-a4ea-53620142c017",
   "metadata": {},
   "source": [
    "### Creating Lambda\n",
    "\n",
    "On this block, we're going to generate Lambda function Code:"
   ]
  },
  {
   "cell_type": "code",
   "execution_count": 8,
   "id": "d2cfc71d-4b0e-4b00-9159-cc3efd2becbc",
   "metadata": {},
   "outputs": [
    {
     "name": "stdout",
     "output_type": "stream",
     "text": [
      "Writing forecast.py\n"
     ]
    }
   ],
   "source": [
    "%%writefile forecast.py\n",
    "import json\n",
    "\n",
    "def get_named_parameter(event, name):\n",
    "    return next(item for item in event['parameters'] if item['name'] == name)['value']\n",
    "    \n",
    "def populate_function_response(event, response_body):\n",
    "    return {'response': {'actionGroup': event['actionGroup'], 'function': event['function'],\n",
    "                'functionResponse': {'responseBody': {'TEXT': {'body': str(response_body)}}}}}\n",
    "\n",
    "def forecast_consumption(customer_id):\n",
    "    # TODO: Implement real business logic\n",
    "    return [\n",
    "        {\"day\": \"2024/06/01\",\n",
    "         \"sumPowerReading\": \"120.0\"\n",
    "        },\n",
    "        {\"day\": \"2024/07/01\",\n",
    "         \"sumPowerReading\": \"130.0\"\n",
    "        },\n",
    "        {\"day\": \"2024/08/01\",\n",
    "         \"sumPowerReading\": \"140.0\"\n",
    "        },\n",
    "        {\"day\": \"2024/09/01\",\n",
    "         \"sumPowerReading\": \"150.0\"\n",
    "        },\n",
    "        {\"day\": \"2024/10/01\",\n",
    "         \"sumPowerReading\": \"200.0\"\n",
    "        },\n",
    "        {\"day\": \"2024/11/01\",\n",
    "         \"sumPowerReading\": \"190.0\"\n",
    "        },\n",
    "        {\"day\": \"2024/12/01\",\n",
    "         \"sumPowerReading\": \"205.0\"\n",
    "        },\n",
    "        {\"day\": \"2025/01/01\",\n",
    "         \"sumPowerReading\": \"210.0\"\n",
    "        }\n",
    "    ]\n",
    "\n",
    "def lambda_handler(event, context):\n",
    "    print(event)\n",
    "    \n",
    "    # name of the function that should be invoked\n",
    "    function = event.get('function', '')\n",
    "\n",
    "    # parameters to invoke function with\n",
    "    parameters = event.get('parameters', [])\n",
    "    \n",
    "    if function == 'forecast_consumption':\n",
    "        customer_id = get_named_parameter(event, \"customer_id\")\n",
    "        result = forecast_consumption(customer_id)\n",
    "    else:\n",
    "        result = f\"Error, function '{function}' not recognized\"\n",
    "\n",
    "    response = populate_function_response(event, result)\n",
    "    print(response)\n",
    "    return response"
   ]
  },
  {
   "cell_type": "markdown",
   "id": "566ff86c-e2c8-475a-833e-e0bc359c5767",
   "metadata": {},
   "source": [
    "Now it's time to add this Lambda function as an action group for this agent and prepare it."
   ]
  },
  {
   "cell_type": "code",
   "execution_count": 9,
   "id": "d45c21c0-7a28-417c-a506-021a57b73596",
   "metadata": {},
   "outputs": [],
   "source": [
    "resp = agents.add_action_group_with_lambda(\n",
    "            forecast_agent_name, \n",
    "            forecast_lambda_name, \n",
    "            \"forecast.py\", \n",
    "            [\n",
    "                {\n",
    "                    \"name\": \"forecast_consumption\",\n",
    "                    \"description\": \"\"\"Retrieves usage consumption and projection \n",
    "                                      for next 3 months\"\"\",\n",
    "                    \"parameters\": {\n",
    "                                    \"customer_id\": {\n",
    "                                        \"description\": \"The ID of the customer\",\n",
    "                                        \"required\": True,\n",
    "                                        \"type\": \"string\"\n",
    "                                    }\n",
    "                                }\n",
    "                }\n",
    "            ], \n",
    "            \"forecast_consumption_actions\", \n",
    "            \"Function to get usage forecast for a user \"\n",
    "            )"
   ]
  },
  {
   "cell_type": "markdown",
   "id": "3d6a8d36-cb73-4e95-b345-dbaf4631f42e",
   "metadata": {},
   "source": [
    "### Create alias\n",
    "\n",
    "Create an alias that will be used further on multi-agent collaborator feature:"
   ]
  },
  {
   "cell_type": "code",
   "execution_count": 11,
   "id": "eec0d1ca",
   "metadata": {},
   "outputs": [],
   "source": [
    "agents_boto3 = boto3.client('bedrock-agent',\n",
    "                            region_name=region)\n",
    "\n",
    "forecast_agent_alias_resp = agents_boto3.create_agent_alias(agentId=forecast_agent_id, \n",
    "                                                           agentAliasName='v1')"
   ]
  },
  {
   "cell_type": "code",
   "execution_count": null,
   "id": "da84a8d1-94d6-4955-8c39-1c5d79e68c63",
   "metadata": {},
   "outputs": [],
   "source": [
    "# create alias\n",
    "#forecast_agent_alias_arn = agents.create_agent_alias(forecast_agent_id, 'v1')"
   ]
  },
  {
   "cell_type": "markdown",
   "id": "fdbc0aff",
   "metadata": {},
   "source": [
    "### Invoking Agent\n",
    "\n",
    "Now, let's run some tests on agent to make sure it's working:"
   ]
  },
  {
   "cell_type": "code",
   "execution_count": 15,
   "id": "9b69a4c5",
   "metadata": {},
   "outputs": [
    {
     "name": "stdout",
     "output_type": "stream",
     "text": [
      "Certainly! Here's an ASCII bar chart representing your forecasted energy consumption for the next 8 months:\n",
      "\n",
      "Forecasted Energy Consumption (kWh) for Customer ID: 45\n",
      "\n",
      "210 |                                       ██\n",
      "200 |                   ██           ██     ██\n",
      "190 |                   ██     ██    ██     ██\n",
      "180 |                   ██     ██    ██     ██\n",
      "170 |                   ██     ██    ██     ██\n",
      "160 |                   ██     ██    ██     ██\n",
      "150 |               ██  ██     ██    ██     ██\n",
      "140 |           ██  ██  ██     ██    ██     ██\n",
      "130 |       ██  ██  ██  ██     ██    ██     ██\n",
      "120 |   ██  ██  ██  ██  ██     ██    ██     ██\n",
      "110 |   ██  ██  ██  ██  ██     ██    ██     ██\n",
      "100 |   ██  ██  ██  ██  ██     ██    ██     ██\n",
      " 90 |   ██  ██  ██  ██  ██     ██    ██     ██\n",
      " 80 |   ██  ██  ██  ██  ██     ██    ██     ██\n",
      " 70 |   ██  ██  ██  ██  ██     ██    ██     ██\n",
      " 60 |   ██  ██  ██  ██  ██     ██    ██     ██\n",
      " 50 |   ██  ██  ██  ██  ██     ██    ██     ██\n",
      " 40 |   ██  ██  ██  ██  ██     ██    ██     ██\n",
      " 30 |   ██  ██  ██  ██  ██     ██    ██     ██\n",
      " 20 |   ██  ██  ██  ██  ██     ██    ██     ██\n",
      " 10 |   ██  ██  ██  ██  ██     ██    ██     ██\n",
      "  0 +---++--++--++--++--++-----++----++-----++---\n",
      "     Jun Jul Aug Sep Oct Nov   Dec   Jan\n",
      "     '24 '24 '24 '24 '24 '24   '24   '25\n",
      "\n",
      "This bar chart shows your projected energy consumption from June 2024 to January 2025. As you can see, there's a general upward trend in your energy usage, with the highest consumption expected in January 2025 at 210 kWh.\n",
      "CPU times: user 4.11 ms, sys: 7.4 ms, total: 11.5 ms\n",
      "Wall time: 13.9 s\n"
     ]
    }
   ],
   "source": [
    "%%time\n",
    "print(agents.invoke(\"can you give me my forecasted energy consumption in a bar chart? My id is 45\", \n",
    "                    forecast_agent_id)\n",
    ")"
   ]
  },
  {
   "cell_type": "markdown",
   "id": "29db93eb-9a51-48d2-a6ae-a31b7b5ddde1",
   "metadata": {},
   "source": [
    "Store environment variables to be used on next notebooks."
   ]
  },
  {
   "cell_type": "code",
   "execution_count": null,
   "id": "66d40844-c72b-4114-8415-8cefbe65ebb1",
   "metadata": {},
   "outputs": [],
   "source": [
    "forecast_agent_arn = agents.get_agent_arn_by_name(forecast_agent_name)\n",
    "forecast_agent_alias_arn = forecast_agent_alias_resp['agentAlias']['agentAliasArn']\n",
    "forecast_agent_alias_id = forecast_agent_alias_resp['agentAlias']['agentAliasId']\n",
    "\n",
    "%store forecast_agent_arn\n",
    "%store forecast_agent_alias_arn\n",
    "%store forecast_agent_alias_id\n",
    "%store forecast_lambda_name\n",
    "%store forecast_agent_name\n",
    "%store forecast_agent_id"
   ]
  },
  {
   "cell_type": "code",
   "execution_count": 14,
   "id": "99986c91",
   "metadata": {},
   "outputs": [
    {
     "data": {
      "text/plain": [
       "('arn:aws:bedrock:us-west-2:471112746845:agent/SZXNA1ZDHD',\n",
       " 'arn:aws:bedrock:us-west-2:471112746845:agent-alias/SZXNA1ZDHD/4PIPHQ8AV4',\n",
       " '4PIPHQ8AV4')"
      ]
     },
     "execution_count": 14,
     "metadata": {},
     "output_type": "execute_result"
    }
   ],
   "source": [
    "forecast_agent_arn, forecast_agent_alias_arn, forecast_agent_alias_id"
   ]
  },
  {
   "cell_type": "markdown",
   "id": "a8a2f3d7",
   "metadata": {},
   "source": [
    "### Clean Up"
   ]
  },
  {
   "cell_type": "code",
   "execution_count": 5,
   "id": "ccd3e4c5",
   "metadata": {},
   "outputs": [],
   "source": [
    "agents.delete_lambda(forecast_lambda_name)"
   ]
  },
  {
   "cell_type": "code",
   "execution_count": null,
   "id": "ce914ae2",
   "metadata": {},
   "outputs": [],
   "source": [
    "agents.delete_agent_alias(forecast_agent_alias_id, forecast_agent_id)"
   ]
  },
  {
   "cell_type": "code",
   "execution_count": null,
   "id": "5e43fe29",
   "metadata": {},
   "outputs": [],
   "source": [
    "agents.delete_agent(forecast_agent_name)"
   ]
  }
 ],
 "metadata": {
  "kernelspec": {
   "display_name": "Python 3 (ipykernel)",
   "language": "python",
   "name": "python3"
  },
  "language_info": {
   "codemirror_mode": {
    "name": "ipython",
    "version": 3
   },
   "file_extension": ".py",
   "mimetype": "text/x-python",
   "name": "python",
   "nbconvert_exporter": "python",
   "pygments_lexer": "ipython3",
   "version": "3.11.7"
  }
 },
 "nbformat": 4,
 "nbformat_minor": 5
}
