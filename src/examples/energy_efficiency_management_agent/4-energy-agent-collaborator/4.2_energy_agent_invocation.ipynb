{
 "cells": [
  {
   "cell_type": "markdown",
   "id": "fb8d63a2-913e-498a-a01a-5e66a39bf3e7",
   "metadata": {},
   "source": [
    "## Lab 4. Energy Agent Collaborator"
   ]
  },
  {
   "cell_type": "markdown",
   "id": "63678eaa-8830-4cbe-94af-5ebd8b0e03e0",
   "metadata": {},
   "source": [
    "### Introduction\n",
    "\n",
    "In previous notebook we have shown you how to create multi-agent collaborator feature on Amazon Bedrock.\n",
    "\n",
    "[Multi-agent Collaborator](https://aws.amazon.com/bedrock/) is a native feature on Amazon Bedrock that allows you to integrate agents into one collaborator. This collaborator can redirect invocations, to extract informations and give you a complex response for a workflow.\n",
    "\n",
    "This agent will integrate previous agents, created on previous labs.\n",
    "\n",
    "The following represents the complete architecture of multi-agent collaborator.\n",
    "\n",
    "![Architecture](../img/architecture.png)"
   ]
  },
  {
   "cell_type": "markdown",
   "id": "5f4b36f5",
   "metadata": {},
   "source": [
    "On this lab you will execute a set of tests, but this time using detailed trace, to check the chain-of-thought reasoning that is happening on the agents.\n",
    "\n",
    "**[Chain-of-thought reasoning](https://docs.aws.amazon.com/bedrock/latest/userguide/what-is-prompt-engineering.html)** is a prompt engineering technique that give step-by-step reasoning on how an answer is derived based on your prompt.\n"
   ]
  },
  {
   "cell_type": "markdown",
   "id": "b3ba49fa-3293-4ea6-8dee-fb9f410c6481",
   "metadata": {},
   "source": [
    "### Setup\n",
    "\n",
    "Firstly, you are going to install boto3 dependencies from pip. Make sure to have version superior of **1.35.45**"
   ]
  },
  {
   "cell_type": "code",
   "execution_count": null,
   "id": "a6d6d852",
   "metadata": {},
   "outputs": [],
   "source": [
    "!pip uninstall boto3 botocore awscli --yes"
   ]
  },
  {
   "cell_type": "code",
   "execution_count": null,
   "id": "1abeca2c-3181-42c3-adc5-70f993fc7ab0",
   "metadata": {
    "scrolled": true
   },
   "outputs": [],
   "source": [
    "# Install Dependencies from local package\n",
    "!pip install ../boto3/dataplane/botocore-1.35.57-py3-none-any.whl \\\n",
    "    ../boto3/dataplane/boto3-1.35.57-py3-none-any.whl \\\n",
    "    ../boto3/dataplane/awscli-1.35.23-py3-none-any.whl --force-reinstall --no-cache"
   ]
  },
  {
   "cell_type": "code",
   "execution_count": null,
   "id": "b41744f5",
   "metadata": {},
   "outputs": [],
   "source": [
    "# Only install if running locally\n",
    "!pip install pickleshare --force-reinstall --no-cache"
   ]
  },
  {
   "cell_type": "markdown",
   "id": "9cab0934-d025-47a2-a276-9d3fdb5a1d61",
   "metadata": {},
   "source": [
    "Restart kernel for packages to take effect"
   ]
  },
  {
   "cell_type": "code",
   "execution_count": null,
   "id": "c10d5b0b-fc4d-4733-a1cc-49ef6402785f",
   "metadata": {},
   "outputs": [],
   "source": [
    "import IPython\n",
    "\n",
    "IPython.Application.instance().kernel.do_shutdown(True)"
   ]
  },
  {
   "cell_type": "markdown",
   "id": "d2002dc2",
   "metadata": {},
   "source": [
    "Check if your boto3 version is superior than **1.35.45**"
   ]
  },
  {
   "cell_type": "code",
   "execution_count": null,
   "id": "1895b3fc",
   "metadata": {},
   "outputs": [],
   "source": [
    "!pip freeze | grep boto3"
   ]
  },
  {
   "cell_type": "markdown",
   "id": "ccf37dd5-bfaf-4563-a6ad-f9d7637c6e43",
   "metadata": {},
   "source": [
    "### Invoking multi-agent Collaborator"
   ]
  },
  {
   "cell_type": "code",
   "execution_count": null,
   "id": "277a742a-5f17-4dfc-ac36-1b70ce8f4f7d",
   "metadata": {},
   "outputs": [],
   "source": [
    "import boto3\n",
    "import os\n",
    "import sys\n",
    "\n",
    "sts_client = boto3.client('sts')\n",
    "session = boto3.session.Session()\n",
    "\n",
    "account_id = sts_client.get_caller_identity()[\"Account\"]\n",
    "region = session.region_name\n",
    "account_id_suffix = account_id[:3]\n",
    "agent_suffix = f\"{region}-{account_id_suffix}\"\n",
    "\n",
    "energy_agent_name = f\"energy-agent-{agent_suffix}\""
   ]
  },
  {
   "cell_type": "code",
   "execution_count": null,
   "id": "21a3648b",
   "metadata": {},
   "outputs": [],
   "source": [
    "import sys\n",
    "\n",
    "sys.path.insert(0, \".\")\n",
    "sys.path.insert(3, \"../../../..\")\n",
    "\n",
    "from src.utils.bedrock_agent_helper import (\n",
    "    AgentsForAmazonBedrock\n",
    ")\n",
    "agents = AgentsForAmazonBedrock()"
   ]
  },
  {
   "cell_type": "code",
   "execution_count": null,
   "id": "e26c8d0f",
   "metadata": {},
   "outputs": [],
   "source": [
    "%store -r\n",
    "energy_agent_id"
   ]
  },
  {
   "cell_type": "markdown",
   "id": "fdbc0aff",
   "metadata": {},
   "source": [
    "On following section, you will invoke sub-agents but by multi-agent collaborator."
   ]
  },
  {
   "cell_type": "markdown",
   "id": "9d58ec9a",
   "metadata": {},
   "source": [
    "#### Lab 1 - Forecasting Agent"
   ]
  },
  {
   "cell_type": "code",
   "execution_count": null,
   "id": "9b69a4c5",
   "metadata": {},
   "outputs": [],
   "source": [
    "%%time\n",
    "import uuid\n",
    "session_id:str = str(uuid.uuid1())\n",
    "\n",
    "print(\n",
    "    agents.invoke(\n",
    "        \"Can you give me my forecasted energy consumption in a bar chart? My id is 1\", \n",
    "        energy_agent_id,\n",
    "        session_id=session_id,\n",
    "        enable_trace=True\n",
    "    )\n",
    ")"
   ]
  },
  {
   "cell_type": "code",
   "execution_count": null,
   "id": "77b9c6ea",
   "metadata": {},
   "outputs": [],
   "source": [
    "%%time\n",
    "import uuid\n",
    "session_id:str = str(uuid.uuid1())\n",
    "\n",
    "print(agents.invoke(\"Can you update my forecast for month 12/2024? I will be travelling and my estimate will be 170. My id is 1\", \n",
    "                    energy_agent_id,\n",
    "                    session_id=session_id,\n",
    "                    enable_trace=True)\n",
    ")"
   ]
  },
  {
   "cell_type": "code",
   "execution_count": null,
   "id": "627a56b2",
   "metadata": {},
   "outputs": [],
   "source": [
    "%%time\n",
    "import uuid\n",
    "session_id:str = str(uuid.uuid1())\n",
    "\n",
    "print(agents.invoke(\"Can you give me my forecasted energy consumption in a bar chart? My id is 1\", \n",
    "                    energy_agent_id,\n",
    "                    session_id=session_id,\n",
    "                    enable_trace=True)\n",
    ")"
   ]
  },
  {
   "cell_type": "markdown",
   "id": "7df63042",
   "metadata": {},
   "source": [
    "#### Lab 2 - Solar Panel Agent"
   ]
  },
  {
   "cell_type": "code",
   "execution_count": null,
   "id": "69b93d8f",
   "metadata": {},
   "outputs": [],
   "source": [
    "%%time\n",
    "import uuid\n",
    "session_id:str = str(uuid.uuid1())\n",
    "\n",
    "print(agents.invoke(\"How can I check if my solar panel eltrical consumption is compliant with energy rules?\", \n",
    "                    energy_agent_id,\n",
    "                    session_id=session_id,\n",
    "                    enable_trace=True)\n",
    ")"
   ]
  },
  {
   "cell_type": "code",
   "execution_count": null,
   "id": "6c6b9ad4",
   "metadata": {},
   "outputs": [],
   "source": [
    "%%time\n",
    "import uuid\n",
    "session_id:str = str(uuid.uuid1())\n",
    "\n",
    "print(agents.invoke(\"Can I get all tickets that I have? My customer id is 1\", \n",
    "                    energy_agent_id,\n",
    "                    session_id=session_id,\n",
    "                    enable_trace=True)\n",
    ")"
   ]
  },
  {
   "cell_type": "markdown",
   "id": "3cf7502f",
   "metadata": {},
   "source": [
    "#### Lab 3 - Peak Load Manager Agent"
   ]
  },
  {
   "cell_type": "code",
   "execution_count": null,
   "id": "0c169c2c",
   "metadata": {},
   "outputs": [],
   "source": [
    "%%time\n",
    "import uuid\n",
    "session_id:str = str(uuid.uuid1())\n",
    "\n",
    "print(agents.invoke(\"What's causing my peak load? My id is 2.\", \n",
    "                    energy_agent_id,\n",
    "                    session_id=session_id,\n",
    "                    enable_trace=True)\n",
    ")"
   ]
  },
  {
   "cell_type": "code",
   "execution_count": null,
   "id": "3234621c",
   "metadata": {},
   "outputs": [],
   "source": [
    "%%time\n",
    "import uuid\n",
    "session_id:str = str(uuid.uuid1())\n",
    "\n",
    "print(agents.invoke(\"Is it possible to optimize my consumption? My id is 1\", \n",
    "                    energy_agent_id,\n",
    "                    session_id=session_id,\n",
    "                    enable_trace=True)\n",
    ")"
   ]
  },
  {
   "cell_type": "markdown",
   "id": "29db93eb-9a51-48d2-a6ae-a31b7b5ddde1",
   "metadata": {},
   "source": [
    "### Clean Up"
   ]
  },
  {
   "cell_type": "code",
   "execution_count": null,
   "id": "66d40844-c72b-4114-8415-8cefbe65ebb1",
   "metadata": {},
   "outputs": [],
   "source": [
    "#agents.delete_agent(energy_agent_name)"
   ]
  }
 ],
 "metadata": {
  "kernelspec": {
   "display_name": "Python 3 (ipykernel)",
   "language": "python",
   "name": "python3"
  },
  "language_info": {
   "codemirror_mode": {
    "name": "ipython",
    "version": 3
   },
   "file_extension": ".py",
   "mimetype": "text/x-python",
   "name": "python",
   "nbconvert_exporter": "python",
   "pygments_lexer": "ipython3",
   "version": "3.11.10"
  }
 },
 "nbformat": 4,
 "nbformat_minor": 5
}
