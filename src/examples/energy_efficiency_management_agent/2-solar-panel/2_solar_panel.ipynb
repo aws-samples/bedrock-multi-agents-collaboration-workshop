{
 "cells": [
  {
   "cell_type": "markdown",
   "id": "fb8d63a2-913e-498a-a01a-5e66a39bf3e7",
   "metadata": {},
   "source": [
    "# Lab 2. Solar Panel Instructions"
   ]
  },
  {
   "cell_type": "markdown",
   "id": "63678eaa-8830-4cbe-94af-5ebd8b0e03e0",
   "metadata": {},
   "source": [
    "## Introduction\n",
    "\n",
    "In this notebook we show you how to create your second sub-agent on Amazon Bedrock Agents.\n",
    "\n",
    "This agent contains instructions on how to install and to do maintenance on Solar Panels, where customers can ask the agent to return these information from an [Amazon Bedrock Knowledge Base](https://aws.amazon.com/bedrock/knowledge-bases/).\n",
    "\n",
    "To equip foundation models (FMs) with up-to-date and proprietary information, organizations use Retrieval Augmented Generation (RAG), a technique that fetches data from company data sources and enriches the prompt to provide more relevant and accurate responses. \n",
    "\n",
    "Amazon Bedrock Knowledge Bases is Bedrock's fully managed capability that helps you implement the entire RAG workflow from ingestion to retrieval and prompt augmentation without having to build custom integrations to data sources and manage data flows.\n",
    "\n",
    "In the context of our agent, if the answer to a question is not present on the Knowledge Base, customers can ask agent to create a support ticket, to get a human in the loop to help with their questions.\n",
    "\n",
    "The following represents the piece of architecture that will be built on this module.\n",
    "\n",
    "![Architecture](img/solar_panel_agent.png)"
   ]
  },
  {
   "cell_type": "markdown",
   "id": "b3ba49fa-3293-4ea6-8dee-fb9f410c6481",
   "metadata": {},
   "source": [
    "## Setup\n",
    "\n",
    "Firstly, you are going to install boto3 dependencies from pip. Make sure to have version superior of **1.35.45**"
   ]
  },
  {
   "cell_type": "code",
   "execution_count": null,
   "id": "1abeca2c-3181-42c3-adc5-70f993fc7ab0",
   "metadata": {
    "scrolled": true
   },
   "outputs": [],
   "source": [
    "# Install Dependencies from local package\n",
    "!pip install ../boto3/controlplane/botocore-1.35.55-py3-none-any.whl \\\n",
    "    ../boto3/controlplane/boto3-1.35.55-py3-none-any.whl \\\n",
    "    ../boto3/controlplane/awscli-1.35.21-py3-none-any.whl --force-reinstall --no-cache"
   ]
  },
  {
   "cell_type": "markdown",
   "id": "6abdea69",
   "metadata": {},
   "source": [
    "One component of a Knowledge Base is a Vector Database. Vector database is a kind of database that is optimized to store and search with vectors, making RAG architectures possible and faster. \n",
    "\n",
    "Amazon Bedrock Knowledge Bases is powered by one vector database. \n",
    "\n",
    "For this lab we are going to create one collection using [Amazon OpenSearch Serverless](https://aws.amazon.com/opensearch-service/features/serverless/). If you want to know more, [this link](https://docs.aws.amazon.com/bedrock/latest/userguide/knowledge-base-setup.html) contains other supported vector engines for Amazon Bedrock Knowledge Bases.\n",
    "\n",
    "Once you select your vector database, you need to populate it with documents indexed from a data storage. Amazon Bedrock Kwnoledge Bases allow you to use different [data connectors](https://docs.aws.amazon.com/bedrock/latest/userguide/data-source-connectors.html) to populate your vector database. For this lab we will store our data in an Amazon S3 bucket and connect it with our knowledge base.\n",
    "\n",
    "Now, let's install opensearch-py to interact with Opensearch engine."
   ]
  },
  {
   "cell_type": "code",
   "execution_count": null,
   "id": "e7214191",
   "metadata": {},
   "outputs": [],
   "source": [
    "!pip install opensearch-py retrying --force-reinstall --no-cache"
   ]
  },
  {
   "cell_type": "markdown",
   "id": "9cab0934-d025-47a2-a276-9d3fdb5a1d61",
   "metadata": {},
   "source": [
    "Restart kernel for packages to take effect"
   ]
  },
  {
   "cell_type": "code",
   "execution_count": null,
   "id": "c10d5b0b-fc4d-4733-a1cc-49ef6402785f",
   "metadata": {},
   "outputs": [],
   "source": [
    "import IPython\n",
    "\n",
    "IPython.Application.instance().kernel.do_shutdown(True)"
   ]
  },
  {
   "cell_type": "markdown",
   "id": "7b76edd4",
   "metadata": {},
   "source": [
    "Check if your boto3 version is superior than **1.35.45**"
   ]
  },
  {
   "cell_type": "code",
   "execution_count": null,
   "id": "20b72889",
   "metadata": {},
   "outputs": [],
   "source": [
    "!pip freeze | grep boto3"
   ]
  },
  {
   "cell_type": "markdown",
   "id": "ccf37dd5-bfaf-4563-a6ad-f9d7637c6e43",
   "metadata": {},
   "source": [
    "## Creating Agent\n",
    "\n",
    "On this section we declare global variables that will be act as helpers during entire notebook and we will start to create out second agent."
   ]
  },
  {
   "cell_type": "code",
   "execution_count": 1,
   "id": "277a742a-5f17-4dfc-ac36-1b70ce8f4f7d",
   "metadata": {},
   "outputs": [],
   "source": [
    "import boto3\n",
    "import os\n",
    "import sys\n",
    "\n",
    "sts_client = boto3.client('sts')\n",
    "session = boto3.session.Session()\n",
    "\n",
    "account_id = sts_client.get_caller_identity()[\"Account\"]\n",
    "region = session.region_name\n",
    "s3_client = boto3.client('s3', region)\n",
    "bedrock_client = boto3.client('bedrock-runtime', region)\n",
    "\n",
    "agent_foundation_model = [\n",
    "    'anthropic.claude-3-sonnet-20240229-v1:0',\n",
    "    'anthropic.claude-3-haiku-20240307-v1:0',\n",
    "    'anthropic.claude-3-5-sonnet-20240620-v1:0'\n",
    "]"
   ]
  },
  {
   "cell_type": "code",
   "execution_count": 2,
   "id": "a27cc6c8-4faa-4adc-90c8-7ace112877e1",
   "metadata": {},
   "outputs": [],
   "source": [
    "solar_agent_name = f\"solar-p-{account_id}\"\n",
    "\n",
    "solar_lambda_name = f\"fn-solar-p-{account_id}\"\n",
    "\n",
    "solar_agent_role_name = f'AmazonBedrockExecutionRoleForAgents_{solar_agent_name}'\n",
    "\n",
    "dynamodb_table = f\"{solar_agent_name}-table\"\n",
    "dynamodb_pk = \"customer_id\"\n",
    "dynamodb_sk = \"ticket_id\"\n",
    "\n",
    "dynamoDB_args = [dynamodb_table, dynamodb_pk, dynamodb_sk]\n",
    "\n",
    "knowledge_base_name = f'{solar_agent_name}-kb'\n",
    "suffix = f\"{region}-{account_id}\"\n",
    "\n",
    "knowledge_base_description = \"KB containing solar panel instructions for installation and maintenance\"\n",
    "bucket_name = f'{solar_agent_name}-{suffix}'"
   ]
  },
  {
   "cell_type": "markdown",
   "id": "8786517e",
   "metadata": {},
   "source": [
    "On following section, we're adding `agents.py`and `knowledge_bases.py` on Python path, so files can be recognized and invoked."
   ]
  },
  {
   "cell_type": "code",
   "execution_count": 3,
   "id": "40be1acf",
   "metadata": {},
   "outputs": [],
   "source": [
    "# Get the current file's directory\n",
    "current_dir = os.path.dirname(os.path.abspath('__file__'))\n",
    "\n",
    "parent_dir = os.path.dirname(current_dir)\n",
    "\n",
    "# Add the parent directory to sys.path\n",
    "sys.path.append(parent_dir)"
   ]
  },
  {
   "cell_type": "markdown",
   "id": "5b41a37c",
   "metadata": {},
   "source": [
    "Now, you're going to import from helper files `agents.py` and `knowledge_bases.py`.\n",
    " \n",
    "Those files contain helper classes totally focused on make labs experience smoothly. \n",
    "\n",
    "All interactions with Bedrock will be handled by these classes.\n",
    "\n",
    "Following are methods that you're going to invoke on this lab:\n",
    "\n",
    "On `agents.py`:\n",
    "- `create_agent`: Create a new agent and respective IAM roles\n",
    "- `add_action_group_with_lambda`: Create a lambda function and add it as an action group for a previous created agent\n",
    "- `create_agent_alias`: Create an alias for this agent\n",
    "- `invoke`: Execute agent\n",
    "\n",
    "On `knowledge_bases.py`:\n",
    "- `create_or_retrieve_knowledge_base`: Create Knowledge Base on Amazon Bedrock if it doesn't exist or get info about previous created.\n",
    "- `synchronize_data`: Read files on S3, convert text info into vectors and add that information on Vector Database."
   ]
  },
  {
   "cell_type": "code",
   "execution_count": 4,
   "id": "de912e83-e8c1-4bd7-adb7-9ad232e13b56",
   "metadata": {},
   "outputs": [
    {
     "name": "stdout",
     "output_type": "stream",
     "text": [
      "us-east-1\n"
     ]
    }
   ],
   "source": [
    "from agent import AgentsForAmazonBedrock\n",
    "from knowledge_bases import KnowledgeBasesForAmazonBedrock\n",
    "\n",
    "agents = AgentsForAmazonBedrock()\n",
    "kb = KnowledgeBasesForAmazonBedrock()"
   ]
  },
  {
   "cell_type": "markdown",
   "id": "f455fe28",
   "metadata": {},
   "source": [
    "## Create and Load Knowledge Base\n",
    "\n",
    "On this section, you're going to create a Amazon Bedrock Knowledge Base and ingest data on it.\n",
    "\n",
    "In the next steps we will generate the data used to populate the knowledge base. It will be composed of instructions on how to handle a solar panel\n",
    "\n",
    "**This creation process takes around 5min.**"
   ]
  },
  {
   "cell_type": "code",
   "execution_count": 5,
   "id": "040e3a76",
   "metadata": {},
   "outputs": [
    {
     "name": "stdout",
     "output_type": "stream",
     "text": [
      "Creating KB solar-p-471112746845-kb\n",
      "========================================================================================\n",
      "Step 1 - Creating or retrieving solar-p-471112746845-us-east-1-471112746845 S3 bucket for Knowledge Base documents\n",
      "Creating bucket solar-p-471112746845-us-east-1-471112746845\n",
      "========================================================================================\n",
      "Step 2 - Creating Knowledge Base Execution Role (AmazonBedrockExecutionRoleForKnowledgeBase_508) and Policies\n",
      "========================================================================================\n",
      "Step 3 - Creating OSS encryption, network and data access policies\n",
      "========================================================================================\n",
      "Step 4 - Creating OSS Collection (this step takes a couple of minutes to complete)\n",
      "{ 'ResponseMetadata': { 'HTTPHeaders': { 'connection': 'keep-alive',\n",
      "                                         'content-length': '319',\n",
      "                                         'content-type': 'application/x-amz-json-1.0',\n",
      "                                         'date': 'Tue, 26 Nov 2024 04:20:42 '\n",
      "                                                 'GMT',\n",
      "                                         'x-amzn-requestid': '86a40f79-9c15-4d5c-92af-b9dbf5e31503'},\n",
      "                        'HTTPStatusCode': 200,\n",
      "                        'RequestId': '86a40f79-9c15-4d5c-92af-b9dbf5e31503',\n",
      "                        'RetryAttempts': 0},\n",
      "  'createCollectionDetail': { 'arn': 'arn:aws:aoss:us-east-1:471112746845:collection/s3asy451r3o9vnyqwo14',\n",
      "                              'createdDate': 1732594842482,\n",
      "                              'id': 's3asy451r3o9vnyqwo14',\n",
      "                              'kmsKeyArn': 'auto',\n",
      "                              'lastModifiedDate': 1732594842482,\n",
      "                              'name': 'solar-p-471112746845-kb-508',\n",
      "                              'standbyReplicas': 'ENABLED',\n",
      "                              'status': 'CREATING',\n",
      "                              'type': 'VECTORSEARCH'}}\n",
      "s3asy451r3o9vnyqwo14.us-east-1.aoss.amazonaws.com\n",
      "Creating collection...\n",
      "..............................\n",
      "Collection successfully created:\n",
      "[ { 'arn': 'arn:aws:aoss:us-east-1:471112746845:collection/s3asy451r3o9vnyqwo14',\n",
      "    'collectionEndpoint': 'https://s3asy451r3o9vnyqwo14.us-east-1.aoss.amazonaws.com',\n",
      "    'createdDate': 1732594842482,\n",
      "    'dashboardEndpoint': 'https://s3asy451r3o9vnyqwo14.us-east-1.aoss.amazonaws.com/_dashboards',\n",
      "    'id': 's3asy451r3o9vnyqwo14',\n",
      "    'kmsKeyArn': 'auto',\n",
      "    'lastModifiedDate': 1732594865933,\n",
      "    'name': 'solar-p-471112746845-kb-508',\n",
      "    'standbyReplicas': 'ENABLED',\n",
      "    'status': 'ACTIVE',\n",
      "    'type': 'VECTORSEARCH'}]\n",
      "Opensearch serverless arn:  arn:aws:iam::471112746845:policy/AmazonBedrockOSSPolicyForKnowledgeBase_508\n",
      "Sleeping for a minute to ensure data access rules have been enforced\n",
      "========================================================================================\n",
      "Step 5 - Creating OSS Vector Index\n"
     ]
    },
    {
     "name": "stderr",
     "output_type": "stream",
     "text": [
      "[2024-11-26 04:22:13,343] p7199 {base.py:258} INFO - PUT https://s3asy451r3o9vnyqwo14.us-east-1.aoss.amazonaws.com:443/solar-p-471112746845-kb-index-508 [status:200 request:0.533s]\n"
     ]
    },
    {
     "name": "stdout",
     "output_type": "stream",
     "text": [
      "\n",
      "Creating index:\n",
      "{ 'acknowledged': True,\n",
      "  'index': 'solar-p-471112746845-kb-index-508',\n",
      "  'shards_acknowledged': True}\n",
      "========================================================================================\n",
      "Step 6 - Creating Knowledge Base\n",
      "{'type': 'VECTOR', 'vectorKnowledgeBaseConfiguration': {'embeddingModelArn': 'arn:aws:bedrock:us-east-1::foundation-model/amazon.titan-embed-text-v2:0'}}\n",
      "{ 'createdAt': datetime.datetime(2024, 11, 26, 4, 23, 13, 447283, tzinfo=tzlocal()),\n",
      "  'description': 'KB containing solar panel instructions for installation and '\n",
      "                 'maintenance',\n",
      "  'knowledgeBaseArn': 'arn:aws:bedrock:us-east-1:471112746845:knowledge-base/TEU7AJU8YL',\n",
      "  'knowledgeBaseConfiguration': { 'type': 'VECTOR',\n",
      "                                  'vectorKnowledgeBaseConfiguration': { 'embeddingModelArn': 'arn:aws:bedrock:us-east-1::foundation-model/amazon.titan-embed-text-v2:0'}},\n",
      "  'knowledgeBaseId': 'TEU7AJU8YL',\n",
      "  'name': 'solar-p-471112746845-kb',\n",
      "  'roleArn': 'arn:aws:iam::471112746845:role/AmazonBedrockExecutionRoleForKnowledgeBase_508',\n",
      "  'status': 'CREATING',\n",
      "  'storageConfiguration': { 'opensearchServerlessConfiguration': { 'collectionArn': 'arn:aws:aoss:us-east-1:471112746845:collection/s3asy451r3o9vnyqwo14',\n",
      "                                                                   'fieldMapping': { 'metadataField': 'text-metadata',\n",
      "                                                                                     'textField': 'text',\n",
      "                                                                                     'vectorField': 'vector'},\n",
      "                                                                   'vectorIndexName': 'solar-p-471112746845-kb-index-508'},\n",
      "                            'type': 'OPENSEARCH_SERVERLESS'},\n",
      "  'updatedAt': datetime.datetime(2024, 11, 26, 4, 23, 13, 447283, tzinfo=tzlocal())}\n",
      "{ 'createdAt': datetime.datetime(2024, 11, 26, 4, 23, 14, 237386, tzinfo=tzlocal()),\n",
      "  'dataDeletionPolicy': 'RETAIN',\n",
      "  'dataSourceConfiguration': { 's3Configuration': { 'bucketArn': 'arn:aws:s3:::solar-p-471112746845-us-east-1-471112746845'},\n",
      "                               'type': 'S3'},\n",
      "  'dataSourceId': 'LZ9LGIA7WR',\n",
      "  'description': 'KB containing solar panel instructions for installation and '\n",
      "                 'maintenance',\n",
      "  'knowledgeBaseId': 'TEU7AJU8YL',\n",
      "  'name': 'solar-p-471112746845-kb',\n",
      "  'status': 'AVAILABLE',\n",
      "  'updatedAt': datetime.datetime(2024, 11, 26, 4, 23, 14, 237386, tzinfo=tzlocal()),\n",
      "  'vectorIngestionConfiguration': { 'chunkingConfiguration': { 'chunkingStrategy': 'FIXED_SIZE',\n",
      "                                                               'fixedSizeChunkingConfiguration': { 'maxTokens': 512,\n",
      "                                                                                                   'overlapPercentage': 20}}}}\n",
      "========================================================================================\n",
      "Knowledge Base ID: TEU7AJU8YL\n",
      "Data Source ID: LZ9LGIA7WR\n"
     ]
    }
   ],
   "source": [
    "kb_id, ds_id = kb.create_or_retrieve_knowledge_base(\n",
    "    knowledge_base_name,\n",
    "    knowledge_base_description,\n",
    "    bucket_name\n",
    ")\n",
    "\n",
    "print(f\"Knowledge Base ID: {kb_id}\")\n",
    "print(f\"Data Source ID: {ds_id}\")"
   ]
  },
  {
   "cell_type": "markdown",
   "id": "a6f04f9e",
   "metadata": {},
   "source": [
    "### Create Synthetic Data to Load on S3\n",
    "\n",
    "Instead of get data elsewhere, you're going to generate data, using a LLM on Amazon Bedrock.\n",
    "This fake data that will be generated, will be uploaded into a S3 bucket and then added into an Amazon Bedrock Knowledge Base."
   ]
  },
  {
   "cell_type": "code",
   "execution_count": 6,
   "id": "f9c9b44c",
   "metadata": {},
   "outputs": [
    {
     "name": "stdout",
     "output_type": "stream",
     "text": [
      "The kb_documents directory already exists!\n"
     ]
    }
   ],
   "source": [
    "path = \"kb_documents\"\n",
    "# Check whether the specified path exists or not\n",
    "isExist = os.path.exists(path)\n",
    "if not isExist:\n",
    "   # Create a n ew directory if it does not exist\n",
    "   os.makedirs(path)\n",
    "   print(\"The {} directory was created!\".format(path))\n",
    "else:\n",
    "   print(\"The {} directory already exists!\".format(path))"
   ]
  },
  {
   "cell_type": "markdown",
   "id": "eb1d898b",
   "metadata": {},
   "source": [
    "Creating helper methods to invoke LLM on Bedrock and to write a local file using Python"
   ]
  },
  {
   "cell_type": "code",
   "execution_count": 7,
   "id": "eb952b08",
   "metadata": {},
   "outputs": [],
   "source": [
    "def invoke_bedrock_generate_energy_files(prompt):\n",
    "    message_list = []\n",
    "\n",
    "    initial_message = {\n",
    "        \"role\": \"user\",\n",
    "        \"content\": [\n",
    "            { \"text\": prompt } \n",
    "        ],\n",
    "    }\n",
    "\n",
    "    message_list.append(initial_message)\n",
    "\n",
    "    response = bedrock_client.converse(\n",
    "        modelId=agent_foundation_model[0],\n",
    "        messages=message_list,\n",
    "        inferenceConfig={\n",
    "            \"maxTokens\": 500,\n",
    "            \"temperature\": 0\n",
    "        },\n",
    "    )\n",
    "\n",
    "    return response['output']['message']\n",
    "\n",
    "def write_file(file_name, content):\n",
    "    f = open(file_name, 'w')\n",
    "    f.write(content)\n",
    "    f.close"
   ]
  },
  {
   "cell_type": "markdown",
   "id": "c3cd11d3",
   "metadata": {},
   "source": [
    "Generating one file with instructions on how to install a solar panel."
   ]
  },
  {
   "cell_type": "code",
   "execution_count": 8,
   "id": "89384886",
   "metadata": {},
   "outputs": [],
   "source": [
    "text_generation_energy_instructions = '''\n",
    "    You will be act as an expert on clean energy.\n",
    "    You will generate a step-by-step on how to install a solar panel at home.\n",
    "    Just answer in a numbered list.\n",
    "'''\n",
    "\n",
    "solar_energy_file_name = 'solar-panel-instructions.txt'\n",
    "\n",
    "response_message = invoke_bedrock_generate_energy_files(text_generation_energy_instructions)\n",
    "\n",
    "write_file('{}/{}'.format(path, solar_energy_file_name),response_message['content'][0]['text'])"
   ]
  },
  {
   "cell_type": "markdown",
   "id": "3ca5728c",
   "metadata": {},
   "source": [
    "### Generating data prompt\n",
    "Generating another file with instructions on how to do maintenance on a solar panel."
   ]
  },
  {
   "cell_type": "code",
   "execution_count": 9,
   "id": "599cecaf",
   "metadata": {},
   "outputs": [],
   "source": [
    "text_generation_energy_instructions = '''\n",
    "    You will be act as an expert on clean energy.\n",
    "    You will generate a step-by-step instructions on how to do maintenance in a solar panel installed at a regular home.\n",
    "    Just answer in a numbered list.\n",
    "'''\n",
    "\n",
    "solar_energy_file_name = 'solar-panel-maintenance.txt'\n",
    "\n",
    "response_message = invoke_bedrock_generate_energy_files(text_generation_energy_instructions)\n",
    "\n",
    "write_file('{}/{}'.format(path, solar_energy_file_name),response_message['content'][0]['text'])\n"
   ]
  },
  {
   "cell_type": "markdown",
   "id": "d34e2b5a",
   "metadata": {},
   "source": [
    "### Uploading data to S3\n",
    "Uploading generated files into S3 Bucket."
   ]
  },
  {
   "cell_type": "code",
   "execution_count": 10,
   "id": "9796eaa4",
   "metadata": {},
   "outputs": [],
   "source": [
    "def upload_directory(path, bucket_name):\n",
    "    for root,dirs,files in os.walk(path):\n",
    "        for file in files:\n",
    "            file_to_upload = os.path.join(root,file)\n",
    "            print(f\"uploading file {file_to_upload} to {bucket_name}\")\n",
    "            s3_client.upload_file(file_to_upload,bucket_name,file)"
   ]
  },
  {
   "cell_type": "markdown",
   "id": "2bbde4b1-7576-42ac-b371-621e3162380d",
   "metadata": {},
   "source": [
    "### Synchronizing Knowledge Base\n",
    "Now that the data is available in the s3 bucket, let's synchronize it to our knowledge base"
   ]
  },
  {
   "cell_type": "code",
   "execution_count": 11,
   "id": "e9cb3260",
   "metadata": {},
   "outputs": [
    {
     "name": "stdout",
     "output_type": "stream",
     "text": [
      "uploading file kb_documents/solar-panel-instructions.txt to solar-p-471112746845-us-east-1-471112746845\n",
      "uploading file kb_documents/solar-panel-maintenance.txt to solar-p-471112746845-us-east-1-471112746845\n",
      "{ 'dataSourceId': 'LZ9LGIA7WR',\n",
      "  'ingestionJobId': 'OKNYBE9F9P',\n",
      "  'knowledgeBaseId': 'TEU7AJU8YL',\n",
      "  'startedAt': datetime.datetime(2024, 11, 26, 4, 24, 49, 220746, tzinfo=tzlocal()),\n",
      "  'statistics': { 'numberOfDocumentsDeleted': 0,\n",
      "                  'numberOfDocumentsFailed': 0,\n",
      "                  'numberOfDocumentsScanned': 0,\n",
      "                  'numberOfMetadataDocumentsModified': 0,\n",
      "                  'numberOfMetadataDocumentsScanned': 0,\n",
      "                  'numberOfModifiedDocumentsIndexed': 0,\n",
      "                  'numberOfNewDocumentsIndexed': 0},\n",
      "  'status': 'STARTING',\n",
      "  'updatedAt': datetime.datetime(2024, 11, 26, 4, 24, 49, 220746, tzinfo=tzlocal())}\n",
      "{ 'dataSourceId': 'LZ9LGIA7WR',\n",
      "  'ingestionJobId': 'OKNYBE9F9P',\n",
      "  'knowledgeBaseId': 'TEU7AJU8YL',\n",
      "  'startedAt': datetime.datetime(2024, 11, 26, 4, 24, 49, 220746, tzinfo=tzlocal()),\n",
      "  'statistics': { 'numberOfDocumentsDeleted': 0,\n",
      "                  'numberOfDocumentsFailed': 0,\n",
      "                  'numberOfDocumentsScanned': 2,\n",
      "                  'numberOfMetadataDocumentsModified': 0,\n",
      "                  'numberOfMetadataDocumentsScanned': 0,\n",
      "                  'numberOfModifiedDocumentsIndexed': 0,\n",
      "                  'numberOfNewDocumentsIndexed': 2},\n",
      "  'status': 'COMPLETE',\n",
      "  'updatedAt': datetime.datetime(2024, 11, 26, 4, 24, 54, 217499, tzinfo=tzlocal())}\n"
     ]
    }
   ],
   "source": [
    "upload_directory(\"kb_documents\", bucket_name)\n",
    "\n",
    "# sync knowledge base\n",
    "kb.synchronize_data(kb_id, ds_id)"
   ]
  },
  {
   "cell_type": "markdown",
   "id": "c7593e31",
   "metadata": {},
   "source": [
    "## Creating Agent\n",
    "\n",
    "Create the Solar Panel agent that will have a Knowledge Base and also a Lambda action group to handle exception workflow (when information is not found on KB).\n",
    "\n",
    "For this agent we will use the following instructions:\n",
    "```\n",
    "You are a Solar Energy Assistant that helps customers with solar panel installation and maintenance guidance.\n",
    "\n",
    "Your capabilities include:\n",
    "1. Providing installation instructions\n",
    "2. Providing maintenance procedures\n",
    "3. Troubleshooting common issues\n",
    "4. Creating support tickets for specialist assistance\n",
    "\n",
    "Core behaviors:\n",
    "1. Always use available information before asking customers for additional details\n",
    "2. Maintain a professional yet approachable tone\n",
    "3. Provide clear, direct answers\n",
    "4. Present technical information in an easy-to-understand manner\n",
    "5. NEVER invent information not available in your knowledge base\n",
    "\n",
    "Support ticket protocol:\n",
    "- Only generate tickets for specialist-level issues\n",
    "- Respond exclusively with case ID when creating tickets\n",
    "- Decline providing specialist advice beyond your scope\n",
    "\n",
    "Response style:\n",
    "- Be helpful and solution-oriented\n",
    "- Use clear, practical language\n",
    "- Focus on actionable guidance\n",
    "- Maintain natural conversation flow\n",
    "- Be concise yet informative\n",
    "- Do not add extra information not required by the user\n",
    "```\n",
    "We will also connect a knowledge base with the information about solar panels\n",
    "\n",
    "```\n",
    "Access the knowledge base when customers ask about to install and maintain solar panels\n",
    "```\n",
    "And we will make the following tool available to the agent:\n",
    "- `open_ticket`: to open new support tickets\n",
    "- `get_ticket_status`: to get the current status of an existing ticket"
   ]
  },
  {
   "cell_type": "code",
   "execution_count": 12,
   "id": "864e39d7",
   "metadata": {},
   "outputs": [],
   "source": [
    "kb_info = kb.get_kb(kb_id)\n",
    "kb_arn = kb_info['knowledgeBase']['knowledgeBaseArn']"
   ]
  },
  {
   "cell_type": "code",
   "execution_count": 13,
   "id": "9e265f56",
   "metadata": {},
   "outputs": [],
   "source": [
    "kb_config = {\n",
    "    'kb_id': kb_id,\n",
    "    'kb_instruction': 'Access the knowledge base when customers ask about to install and maintain solar panels'\n",
    "}"
   ]
  },
  {
   "cell_type": "code",
   "execution_count": 14,
   "id": "e1e168c8-180f-4977-96dd-d8006436208b",
   "metadata": {},
   "outputs": [
    {
     "data": {
      "text/plain": [
       "'9COM2BU57I'"
      ]
     },
     "execution_count": 14,
     "metadata": {},
     "output_type": "execute_result"
    }
   ],
   "source": [
    "agent_instruction = \"\"\"You are a Solar Energy Assistant that helps customers with solar panel installation and maintenance guidance.\n",
    "\n",
    "Your capabilities include:\n",
    "1. Providing installation instructions\n",
    "2. Offering maintenance procedures\n",
    "3. Troubleshooting common issues\n",
    "4. Creating support tickets for specialist assistance\n",
    "\n",
    "Core behaviors:\n",
    "1. Always use available information before asking customers for additional details\n",
    "2. Maintain a professional yet approachable tone\n",
    "3. Provide clear, direct answers\n",
    "4. Present technical information in an easy-to-understand manner\n",
    "\n",
    "Support ticket protocol:\n",
    "- Only generate tickets for specialist-level issues\n",
    "- Respond exclusively with case ID when creating tickets\n",
    "- Decline providing specialist advice beyond your scope\n",
    "\n",
    "Response style:\n",
    "- Be helpful and solution-oriented\n",
    "- Use clear, practical language\n",
    "- Focus on actionable guidance\n",
    "- Maintain natural conversation flow\n",
    "- Be concise yet informative\n",
    "- Do not add extra information not required by the user\"\"\"\n",
    "\n",
    "agent_description = \"\"\"You are a solar energy helper bot. \n",
    "    You can retrieve information on how to install and do maintenance on solar panels\"\"\"\n",
    "\n",
    "solar_agent_id = agents.create_agent(\n",
    "    solar_agent_name,\n",
    "    agent_description,\n",
    "    agent_instruction,\n",
    "    agent_foundation_model,\n",
    "    kb_arns=[kb_arn]\n",
    ")\n",
    "\n",
    "solar_agent_id"
   ]
  },
  {
   "cell_type": "code",
   "execution_count": 15,
   "id": "d2cfc71d-4b0e-4b00-9159-cc3efd2becbc",
   "metadata": {},
   "outputs": [],
   "source": [
    "agents.associate_kb_with_agent(solar_agent_id, kb_config['kb_instruction'], kb_config['kb_id'])"
   ]
  },
  {
   "cell_type": "markdown",
   "id": "f595c535",
   "metadata": {},
   "source": [
    "### Creating Action Group\n",
    "\n",
    "On this session, we're going create an action group to handle support tickets and associate it with our agent. To do so, we will first create a Lambda function code to fulfill the execution of the agent's actions Next we will define the actions available actions that an agent can take using function details. Similar to the previous agent, you can also define the actions available using OpenAPI Schema.\n",
    "\n",
    "#### Creating Lambda function\n",
    "First let's create the lambda function"
   ]
  },
  {
   "cell_type": "code",
   "execution_count": 16,
   "id": "7086a3ba",
   "metadata": {},
   "outputs": [
    {
     "name": "stdout",
     "output_type": "stream",
     "text": [
      "Overwriting solar_energy.py\n"
     ]
    }
   ],
   "source": [
    "%%writefile solar_energy.py\n",
    "import os\n",
    "import json\n",
    "import uuid\n",
    "import boto3\n",
    "\n",
    "from boto3.dynamodb.conditions import Key, Attr\n",
    "\n",
    "dynamodb_resource = boto3.resource('dynamodb')\n",
    "dynamodb_table = os.getenv('dynamodb_table')\n",
    "dynamodb_pk = os.getenv('dynamodb_pk')\n",
    "dynamodb_sk = os.getenv('dynamodb_sk')\n",
    "\n",
    "def get_named_parameter(event, name):\n",
    "    try:\n",
    "        return next(item for item in event['parameters'] if item['name'] == name)['value']\n",
    "    except:\n",
    "        return None\n",
    "    \n",
    "def populate_function_response(event, response_body):\n",
    "    return {'response': {'actionGroup': event['actionGroup'], 'function': event['function'],\n",
    "                'functionResponse': {'responseBody': {'TEXT': {'body': str(response_body)}}}}}\n",
    "\n",
    "def put_dynamodb(table_name, item):\n",
    "    table = dynamodb_resource.Table(table_name)\n",
    "    resp = table.put_item(Item=item)\n",
    "    return resp\n",
    "\n",
    "def read_dynamodb(table_name: str, \n",
    "                   pk_field: str,\n",
    "                   pk_value: str,\n",
    "                   sk_field: str=None, \n",
    "                   sk_value: str=None):\n",
    "    try:\n",
    "        table = dynamodb_resource.Table(table_name)\n",
    "        # Create expression\n",
    "        if sk_value:\n",
    "            key_expression = Key(pk_field).eq(pk_value) & Key(sk_field).begins_with(sk_value)\n",
    "        else:\n",
    "            key_expression = Key(pk_field).eq(pk_value)\n",
    "\n",
    "        query_data = table.query(\n",
    "            KeyConditionExpression=key_expression\n",
    "        )\n",
    "        \n",
    "        return query_data['Items']\n",
    "    except Exception:\n",
    "        print(f'Error querying table: {table_name}.')\n",
    "\n",
    "def open_ticket(customer_id, msg):\n",
    "    ticket_id = str(uuid.uuid1())\n",
    "    item = {\n",
    "        'ticket_id': ticket_id,\n",
    "        'customer_id': customer_id,\n",
    "        'description': msg,\n",
    "        'status': 'created'\n",
    "    }\n",
    "    resp = put_dynamodb(dynamodb_table, item)\n",
    "    print(resp)\n",
    "    return \"Thanks for contact customer {}! Your support case was generated with ID: {}\".format(\n",
    "        customer_id, ticket_id\n",
    "    )\n",
    "\n",
    "def get_ticket_status(customer_id,\n",
    "                      ticket_id: str=None):\n",
    "    return read_dynamodb(dynamodb_table, \n",
    "                         dynamodb_pk,\n",
    "                         customer_id,\n",
    "                         dynamodb_sk,\n",
    "                         ticket_id)\n",
    "\n",
    "def lambda_handler(event, context):\n",
    "    print(event)\n",
    "    \n",
    "    # name of the function that should be invoked\n",
    "    function = event.get('function', '')\n",
    "\n",
    "    # parameters to invoke function with\n",
    "    parameters = event.get('parameters', [])\n",
    "    customer_id = get_named_parameter(event, \"customer_id\")\n",
    "\n",
    "    if function == 'open_ticket':\n",
    "        msg = get_named_parameter(event, \"msg\")\n",
    "        result = open_ticket(customer_id, msg)\n",
    "    elif function == 'get_ticket_status':\n",
    "        ticket_id = get_named_parameter(event, \"ticket_id\")\n",
    "        result = get_ticket_status(customer_id, ticket_id)\n",
    "    else:\n",
    "        result = f\"Error, function '{function}' not recognized\"\n",
    "\n",
    "    response = populate_function_response(event, result)\n",
    "    print(response)\n",
    "    return response"
   ]
  },
  {
   "cell_type": "markdown",
   "id": "4e111cd0",
   "metadata": {},
   "source": [
    "#### Defining available actions\n",
    "Now it's time to define the actions that can be taken by the agent"
   ]
  },
  {
   "cell_type": "code",
   "execution_count": 17,
   "id": "61fd71c6",
   "metadata": {},
   "outputs": [],
   "source": [
    "functions_def =[\n",
    "    {\n",
    "        \"name\": \"open_ticket\",\n",
    "        \"description\": \"\"\"Create a ticket to get help with information related with solar panel or clean energy\"\"\",\n",
    "        \"parameters\": {\n",
    "                        \"customer_id\": {\n",
    "                            \"description\": \"Unique customer identifier\",\n",
    "                            \"required\": True,\n",
    "                            \"type\": \"string\"\n",
    "                        },\n",
    "                        \"msg\": {\n",
    "                            \"description\": \"The reason why customer is opening a ticket\",\n",
    "                            \"required\": True,\n",
    "                            \"type\": \"string\"\n",
    "                        }\n",
    "                    }\n",
    "    },\n",
    "    {\n",
    "        \"name\": \"get_ticket_status\",\n",
    "        \"description\": \"\"\"get the status of an existing ticket\"\"\",\n",
    "        \"parameters\": {\n",
    "                        \"customer_id\": {\n",
    "                            \"description\": \"Unique customer identifier\",\n",
    "                            \"required\": True,\n",
    "                            \"type\": \"string\"\n",
    "                        },\n",
    "                        \"ticket_id\": {\n",
    "                            \"description\": \"Unique ticket identifier\",\n",
    "                            \"required\": False,\n",
    "                            \"type\": \"string\"\n",
    "                        }\n",
    "                    }\n",
    "    }\n",
    "]"
   ]
  },
  {
   "cell_type": "markdown",
   "id": "d72cde32-57f6-4c13-bc8d-599ea67b6919",
   "metadata": {},
   "source": [
    "#### Associating action group to agent\n",
    "Finally, we can associate a new action group with our previously created agent"
   ]
  },
  {
   "cell_type": "code",
   "execution_count": 18,
   "id": "f38fb3fd",
   "metadata": {},
   "outputs": [],
   "source": [
    "resp = agents.add_action_group_with_lambda(\n",
    "            agent_name=solar_agent_name,\n",
    "            lambda_function_name=solar_lambda_name,\n",
    "            source_code_file=\"solar_energy.py\",\n",
    "            agent_functions=functions_def,\n",
    "            agent_action_group_name=\"solar_energy_actions\",\n",
    "            agent_action_group_description=\"Function to open an energy ticket for a user or get status from an opened ticket\",\n",
    "            dynamo_args=dynamoDB_args\n",
    ")"
   ]
  },
  {
   "cell_type": "markdown",
   "id": "24226dfa-a3ce-4ba3-bcff-da63e99af5c0",
   "metadata": {},
   "source": [
    "## Testing Agent\n",
    "\n",
    "Now, let's run some tests on the agent we just created to make sure it's working. To do so we will use our test alias: `TSTALIASID` which allows you to invoke a draft version of your agent\n",
    "\n",
    "### Testing maintainance question\n",
    "First let's ask a question related to maintaining an existing solar panel"
   ]
  },
  {
   "cell_type": "code",
   "execution_count": 19,
   "id": "18d8404d",
   "metadata": {},
   "outputs": [
    {
     "name": "stdout",
     "output_type": "stream",
     "text": [
      "\n",
      "\n",
      "To check if your solar panel electrical consumption is compliant with energy rules, you should:\n",
      "\n",
      "1. Obtain an inspection from your local authorities after installing the solar panel system. This inspection will ensure the system meets all safety and code requirements for electrical installations in your area.\n",
      "\n",
      "2. Monitor the system's performance regularly by checking the energy output and comparing it to the expected output. If there is a significant drop in performance, it may indicate an issue that needs further investigation to ensure compliance.\n",
      "\n",
      "3. Keep a log of all maintenance activities, including any issues or repairs made. This record can help demonstrate that you are properly maintaining the system and addressing any potential compliance issues.\n",
      "\n",
      "4. If you encounter any issues or problems that you are not comfortable addressing, or if the system requires more complex maintenance or repairs, consider hiring a professional solar panel technician or contractor to ensure the system remains compliant with energy rules.\n",
      "\n",
      " [s3://solar-p-471112746845-us-east-1-471112746845/solar-panel-instructions.txt] \n",
      "CPU times: user 14.5 ms, sys: 4.32 ms, total: 18.8 ms\n",
      "Wall time: 36.7 s\n"
     ]
    }
   ],
   "source": [
    "%%time\n",
    "print(\n",
    "    agents.invoke(\n",
    "        \"how can I check if my solar panel eletrical consumption is compliant with energy rules?\", \n",
    "        solar_agent_id\n",
    "    )\n",
    ")"
   ]
  },
  {
   "cell_type": "markdown",
   "id": "05a02421-6043-4722-a0ef-b8361d169662",
   "metadata": {},
   "source": [
    "### Testing installation question\n",
    "Next let's ask a question related to installing a new solar panel"
   ]
  },
  {
   "cell_type": "code",
   "execution_count": 28,
   "id": "76fd1a18-d3a5-4e83-a569-f9aa46ca4f8c",
   "metadata": {},
   "outputs": [
    {
     "name": "stdout",
     "output_type": "stream",
     "text": [
      "\n",
      "\n",
      "To install solar panels at home, follow these key steps:\n",
      "\n",
      "1. Assess your energy needs and determine the size of the solar panel system required for your home.\n",
      "2. Obtain necessary permits and approvals from your local authorities. \n",
      "3. Choose a suitable location for the solar panels, preferably a south-facing roof or an area with minimal shade.\n",
      "4. Prepare the installation site by clearing obstructions and ensuring a stable mounting surface.\n",
      "5. Install the racking system or mounting hardware according to manufacturer's instructions and local codes.\n",
      "6. Mount the solar panels onto the racking system, ensuring proper alignment and secure connections.\n",
      "7. Install the inverter to convert the direct current (DC) from the panels into alternating current (AC) for household use.\n",
      "8. Connect the solar panels to the inverter using appropriate cables and connectors.\n",
      "9. Install necessary electrical components like circuit breakers, meters, and disconnect switches to integrate the system with your home's electrical system.\n",
      "10. Obtain an inspection from local authorities to ensure the system meets safety and code requirements.\n",
      "11. Activate the solar panel system and monitor its performance.\n",
      "\n",
      "\n",
      "\n",
      "\n",
      "\n",
      "\n",
      "It is highly recommended to hire a professional solar installer or electrician to ensure the proper and safe installation of a solar panel system, especially if you are not experienced with electrical work or roofing installations.\n",
      "\n",
      " [s3://solar-p-471112746845-us-east-1-471112746845/solar-panel-instructions.txt] .\n",
      "\n",
      "\n",
      "\n",
      "\n",
      "\n",
      "\n",
      "It is highly recommended to hire a professional solar installer or electrician to ensure the proper and safe installation of a solar panel system, especially if you are not experienced with electrical work or roofing installa [s3://solar-p-471112746845-us-east-1-471112746845/solar-panel-instructions.txt] \n",
      "CPU times: user 2.98 ms, sys: 3.14 ms, total: 6.12 ms\n",
      "Wall time: 35.3 s\n"
     ]
    }
   ],
   "source": [
    "%%time\n",
    "print(\n",
    "    agents.invoke(\n",
    "        \"how can I install a solar pannel at home?\", \n",
    "        solar_agent_id\n",
    "    )\n",
    ")"
   ]
  },
  {
   "cell_type": "markdown",
   "id": "99f4750f-739b-4f74-a8a2-9044bdeb5266",
   "metadata": {},
   "source": [
    "### Testing personalized support\n",
    "Let's now create a support ticket. To do so we will pass our customer id to trigger the support ticket creation process"
   ]
  },
  {
   "cell_type": "code",
   "execution_count": 20,
   "id": "34693363",
   "metadata": {},
   "outputs": [
    {
     "name": "stdout",
     "output_type": "stream",
     "text": [
      "a89839d6-abae-11ef-b5e9-c5a2bed3bc09\n",
      "CPU times: user 2.39 ms, sys: 2.37 ms, total: 4.77 ms\n",
      "Wall time: 9.49 s\n"
     ]
    }
   ],
   "source": [
    "%%time\n",
    "print(\n",
    "    agents.invoke(\n",
    "        \"Can I get support to install my solar panel? My customer id is 1\", \n",
    "        solar_agent_id\n",
    "    )\n",
    ")"
   ]
  },
  {
   "cell_type": "markdown",
   "id": "332b0302-6dc8-4bc1-84d4-1f2465e3259a",
   "metadata": {},
   "source": [
    "### Testing getting support ticket details\n",
    "Now let's get the details for our support ticket. For that you will need to provide the ticket id just generated in the previous query to `create_ticket`"
   ]
  },
  {
   "cell_type": "code",
   "execution_count": 21,
   "id": "3967dc08",
   "metadata": {},
   "outputs": [],
   "source": [
    "created_ticket = \"a89839d6-abae-11ef-b5e9-c5a2bed3bc09\""
   ]
  },
  {
   "cell_type": "code",
   "execution_count": 22,
   "id": "fa26f3ee",
   "metadata": {},
   "outputs": [
    {
     "name": "stdout",
     "output_type": "stream",
     "text": [
      "Your ticket with ID a89839d6-abae-11ef-b5e9-c5a2bed3bc09 has a status of 'created'. The description is 'Request for support to install solar panel system'.\n",
      "CPU times: user 2.47 ms, sys: 3.38 ms, total: 5.84 ms\n",
      "Wall time: 14.9 s\n"
     ]
    }
   ],
   "source": [
    "%%time\n",
    "print(\n",
    "    agents.invoke(\n",
    "        \"Can I get details on my ticket? My customer id is 1 and my ticket id is {}\".format(created_ticket), \n",
    "        solar_agent_id\n",
    "    )\n",
    ")"
   ]
  },
  {
   "cell_type": "markdown",
   "id": "15020ecf-77a3-4985-8af0-141c8d79d13b",
   "metadata": {},
   "source": [
    "### Testing get open support tickets\n",
    "Let's also check if our agent can get the details for more than one open case. To do so we will first create a new support case"
   ]
  },
  {
   "cell_type": "code",
   "execution_count": 23,
   "id": "94a27d8f",
   "metadata": {},
   "outputs": [
    {
     "name": "stdout",
     "output_type": "stream",
     "text": [
      "db46116f-abae-11ef-8445-c5a2bed3bc09\n",
      "CPU times: user 4.44 ms, sys: 0 ns, total: 4.44 ms\n",
      "Wall time: 7.42 s\n"
     ]
    }
   ],
   "source": [
    "%%time\n",
    "print(\n",
    "    agents.invoke(\n",
    "        \"Can I get support to review my solar panel consumption? My customer id is 1\", \n",
    "        solar_agent_id\n",
    "    )\n",
    ")"
   ]
  },
  {
   "cell_type": "markdown",
   "id": "3f088ac5-6c49-4cc9-aa51-c36ba01329c1",
   "metadata": {},
   "source": [
    "Next we will request the overview of all open tickets"
   ]
  },
  {
   "cell_type": "code",
   "execution_count": 24,
   "id": "f9964bec",
   "metadata": {},
   "outputs": [
    {
     "name": "stdout",
     "output_type": "stream",
     "text": [
      "Here are the tickets associated with your customer ID 1:\n",
      "\n",
      "Ticket ID: a89839d6-abae-11ef-b5e9-c5a2bed3bc09\n",
      "Description: Request for support to install solar panel system  \n",
      "Status: created\n",
      "\n",
      "Ticket ID: db46116f-abae-11ef-8445-c5a2bed3bc09\n",
      "Description: Request for support to review solar panel consumption\n",
      "Status: created\n",
      "CPU times: user 2.55 ms, sys: 1.98 ms, total: 4.53 ms\n",
      "Wall time: 7.88 s\n"
     ]
    }
   ],
   "source": [
    "%%time\n",
    "print(\n",
    "    agents.invoke(\n",
    "        \"Can I get all tickets that I have? My customer id is 1\", \n",
    "        solar_agent_id\n",
    "    )\n",
    ")"
   ]
  },
  {
   "cell_type": "markdown",
   "id": "3d6a8d36-cb73-4e95-b345-dbaf4631f42e",
   "metadata": {},
   "source": [
    "## Create alias\n",
    "\n",
    "As you can see, you can use your agent with the `TSTALIASID` to complete tasks. \n",
    "However, for multi-agents collaboration it is expected that you first test your agent and only use it once it is fully functional. \n",
    "Therefore to use an agent as a sub-agent in a multi-agent collaboration you first need to create an agent alias and connect it to a new version. \n",
    "\n",
    "Since we've tested and validated our agent, let's now create an alias for it:"
   ]
  },
  {
   "cell_type": "code",
   "execution_count": 25,
   "id": "d94236d9",
   "metadata": {},
   "outputs": [],
   "source": [
    "agents_boto3 = boto3.client(\n",
    "    'bedrock-agent',\n",
    "    region_name=region\n",
    ")\n",
    "\n",
    "solar_agent_alias_resp = agents_boto3.create_agent_alias(\n",
    "    agentId=solar_agent_id,\n",
    "    agentAliasName='v1'\n",
    ")"
   ]
  },
  {
   "cell_type": "markdown",
   "id": "7cc715b7",
   "metadata": {},
   "source": [
    "Store environment variables to be used on next notebooks."
   ]
  },
  {
   "cell_type": "code",
   "execution_count": 26,
   "id": "29db93eb-9a51-48d2-a6ae-a31b7b5ddde1",
   "metadata": {},
   "outputs": [
    {
     "name": "stdout",
     "output_type": "stream",
     "text": [
      "Stored 'solar_agent_arn' (str)\n",
      "Stored 'solar_agent_alias_arn' (str)\n",
      "Stored 'solar_agent_alias_id' (str)\n",
      "Stored 'solar_lambda_name' (str)\n",
      "Stored 'solar_agent_name' (str)\n",
      "Stored 'solar_agent_id' (str)\n",
      "Stored 'solar_kb' (str)\n",
      "Stored 'solar_dynamodb' (str)\n"
     ]
    }
   ],
   "source": [
    "solar_agent_arn = agents.get_agent_arn_by_name(solar_agent_name)\n",
    "solar_agent_alias_arn = solar_agent_alias_resp['agentAlias']['agentAliasArn']\n",
    "solar_agent_alias_id = solar_agent_alias_resp['agentAlias']['agentAliasId']\n",
    "solar_kb = knowledge_base_name\n",
    "solar_dynamodb = dynamodb_table\n",
    "\n",
    "%store solar_agent_arn\n",
    "%store solar_agent_alias_arn\n",
    "%store solar_agent_alias_id\n",
    "%store solar_lambda_name\n",
    "%store solar_agent_name\n",
    "%store solar_agent_id\n",
    "%store solar_kb\n",
    "%store solar_dynamodb"
   ]
  },
  {
   "cell_type": "code",
   "execution_count": null,
   "id": "c29254c4",
   "metadata": {},
   "outputs": [],
   "source": [
    "solar_agent_arn, solar_agent_alias_arn, solar_agent_alias_id"
   ]
  },
  {
   "cell_type": "markdown",
   "id": "baacaa09",
   "metadata": {},
   "source": [
    "### [Optional] Clean Up\n",
    "We will clean up the resources created after the lab 4. However, we will also let some commented out code here in case you want to clean up intermediate results"
   ]
  },
  {
   "cell_type": "code",
   "execution_count": null,
   "id": "6010fc28",
   "metadata": {},
   "outputs": [],
   "source": [
    "# agents.delete_lambda(solar_lambda_name, dynamoDB_table=dynamodb_table)"
   ]
  },
  {
   "cell_type": "code",
   "execution_count": null,
   "id": "d0046664",
   "metadata": {},
   "outputs": [],
   "source": [
    "# agents_boto3.delete_agent_alias(agentAliasId=solar_agent_alias_id, agentId=solar_agent_id)"
   ]
  },
  {
   "cell_type": "code",
   "execution_count": null,
   "id": "74cbe234",
   "metadata": {},
   "outputs": [],
   "source": [
    "# agents.delete_agent(solar_agent_name)"
   ]
  },
  {
   "cell_type": "code",
   "execution_count": null,
   "id": "a51ebc93",
   "metadata": {},
   "outputs": [],
   "source": [
    "# kb.delete_kb(knowledge_base_name)"
   ]
  },
  {
   "cell_type": "markdown",
   "id": "e5e51526-e959-46f3-b834-2a32c4016bc4",
   "metadata": {},
   "source": [
    "## Next Steps\n",
    "Congratulations! We've now created a solar panel agent. Next we will create our peak loader manager agent"
   ]
  }
 ],
 "metadata": {
  "kernelspec": {
   "display_name": "Python 3 (ipykernel)",
   "language": "python",
   "name": "python3"
  },
  "language_info": {
   "codemirror_mode": {
    "name": "ipython",
    "version": 3
   },
   "file_extension": ".py",
   "mimetype": "text/x-python",
   "name": "python",
   "nbconvert_exporter": "python",
   "pygments_lexer": "ipython3",
   "version": "3.11.10"
  }
 },
 "nbformat": 4,
 "nbformat_minor": 5
}
