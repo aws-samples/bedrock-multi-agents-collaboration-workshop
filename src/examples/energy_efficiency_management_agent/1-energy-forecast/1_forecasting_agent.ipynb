{
 "cells": [
  {
   "cell_type": "markdown",
   "id": "fb8d63a2-913e-498a-a01a-5e66a39bf3e7",
   "metadata": {},
   "source": [
    "# Lab 1. Forecasting Agent"
   ]
  },
  {
   "attachments": {},
   "cell_type": "markdown",
   "id": "63678eaa-8830-4cbe-94af-5ebd8b0e03e0",
   "metadata": {},
   "source": [
    "## Introduction\n",
    "\n",
    "In this notebook we show you how to create your first sub-agent on [Amazon Bedrock Agents](https://aws.amazon.com/bedrock/agents/).\n",
    "\n",
    "Amazon Bedrock Agents enable generative AI applications to execute multi-step business tasks using natural language.\n",
    "\n",
    "In our first example we will create a forecasting agent, where customers can ask the agent to return information about their current energy consumption and forecast of it. \n",
    "\n",
    "The following represents the piece of architecture that will be built on this module.\n",
    "<img src=\"img/forecast_agent.png\" class=\"img-responsive\" alt=\"\"> </div>\n",
    "\n",
    "\n",
    "In this example, we will also enable our agent to use code intepretation capabilities to plot energy usage and its forecast. We are also using [Amazon Bedrock Knowledge Bases](https://aws.amazon.com/bedrock/knowledge-bases/) to provide documentation about the forecasting model and its capabilities"
   ]
  },
  {
   "cell_type": "markdown",
   "id": "b3ba49fa-3293-4ea6-8dee-fb9f410c6481",
   "metadata": {},
   "source": [
    "## Setup\n",
    "\n",
    "Firstly, you are going to install boto3 dependencies from pip. Make sure to have version superior of **1.35.45**"
   ]
  },
  {
   "cell_type": "code",
   "execution_count": null,
   "id": "a2436bab",
   "metadata": {},
   "outputs": [],
   "source": [
    "!pip uninstall boto3 botocore awscli --yes"
   ]
  },
  {
   "cell_type": "code",
   "execution_count": null,
   "id": "1abeca2c-3181-42c3-adc5-70f993fc7ab0",
   "metadata": {
    "scrolled": true
   },
   "outputs": [],
   "source": [
    "# Install Dependencies from local package\n",
    "!pip install ../boto3/controlplane/botocore-1.35.55-py3-none-any.whl \\\n",
    "    ../boto3/controlplane/boto3-1.35.55-py3-none-any.whl \\\n",
    "    ../boto3/controlplane/awscli-1.35.21-py3-none-any.whl --force-reinstall --no-cache"
   ]
  },
  {
   "cell_type": "code",
   "execution_count": null,
   "id": "d5224fb5",
   "metadata": {},
   "outputs": [],
   "source": [
    "# Only install if running locally\n",
    "!pip install pickleshare --force-reinstall --no-cache"
   ]
  },
  {
   "cell_type": "markdown",
   "id": "d4641c83",
   "metadata": {},
   "source": [
    "One component of a Knowledge Base is a Vector Database. Vector database is a kind of database that is optimized to store and search with vectors, making RAG architectures possible and faster. \n",
    "\n",
    "Amazon Bedrock Knowledge Bases is powered by one vector database. \n",
    "\n",
    "For this labwe are going to create one collection forAmazon OpenSearch Serverless. If you want to know more, [this link](https://docs.aws.amazon.com/bedrock/latest/userguide/knowledge-base-setup.html) contains other supported vector engines for Amazon Bedrock Knowledge Bases.\n",
    "\n",
    "Now, let's install opensearch-py to interact with Opensearch engine."
   ]
  },
  {
   "cell_type": "code",
   "execution_count": null,
   "id": "fd87d214",
   "metadata": {},
   "outputs": [],
   "source": [
    "!pip install opensearch-py retrying --force-reinstall --no-cache"
   ]
  },
  {
   "cell_type": "markdown",
   "id": "9cab0934-d025-47a2-a276-9d3fdb5a1d61",
   "metadata": {},
   "source": [
    "Restart kernel to ensure packages updates to take effect"
   ]
  },
  {
   "cell_type": "code",
   "execution_count": null,
   "id": "c10d5b0b-fc4d-4733-a1cc-49ef6402785f",
   "metadata": {},
   "outputs": [],
   "source": [
    "import IPython\n",
    "\n",
    "IPython.Application.instance().kernel.do_shutdown(True)"
   ]
  },
  {
   "cell_type": "markdown",
   "id": "987fc8f7",
   "metadata": {},
   "source": [
    "Check if your boto3 version is superior than **1.35.45**"
   ]
  },
  {
   "cell_type": "code",
   "execution_count": null,
   "id": "4cef0a80",
   "metadata": {},
   "outputs": [],
   "source": [
    "!pip freeze | grep boto3"
   ]
  },
  {
   "cell_type": "markdown",
   "id": "ccf37dd5-bfaf-4563-a6ad-f9d7637c6e43",
   "metadata": {},
   "source": [
    "## Creating Agent\n",
    "\n",
    "On this section we declare global variables that will be act as helpers during entire notebook and you will start to create your first agent."
   ]
  },
  {
   "cell_type": "code",
   "execution_count": null,
   "id": "277a742a-5f17-4dfc-ac36-1b70ce8f4f7d",
   "metadata": {},
   "outputs": [],
   "source": [
    "import boto3\n",
    "import os\n",
    "import json\n",
    "import sys\n",
    "import time\n",
    "\n",
    "sts_client = boto3.client('sts')\n",
    "session = boto3.session.Session()\n",
    "\n",
    "account_id = sts_client.get_caller_identity()[\"Account\"]\n",
    "region = session.region_name\n",
    "account_id_suffix = account_id[:3]\n",
    "agent_suffix = f\"{region}-{account_id_suffix}\"\n",
    "\n",
    "s3_client = boto3.client('s3', region)\n",
    "bedrock_client = boto3.client('bedrock-runtime', region)\n",
    "\n",
    "agent_foundation_model = [\n",
    "    'anthropic.claude-3-sonnet-20240229-v1:0',\n",
    "    'anthropic.claude-3-5-sonnet-20240620-v1:0',\n",
    "    'anthropic.claude-3-haiku-20240307-v1:0'\n",
    "]"
   ]
  },
  {
   "cell_type": "code",
   "execution_count": null,
   "id": "a27cc6c8-4faa-4adc-90c8-7ace112877e1",
   "metadata": {},
   "outputs": [],
   "source": [
    "forecast_agent_name = f\"forecast-{agent_suffix}\"\n",
    "\n",
    "forecast_lambda_name = f\"fn-forecast-agent-{agent_suffix}\"\n",
    "\n",
    "forecast_agent_role_name = f'AmazonBedrockExecutionRoleForAgents_{forecast_agent_name}'\n",
    "\n",
    "dynamodb_table = f\"{forecast_agent_name}-table\"\n",
    "dynamodb_pk = \"customer_id\"\n",
    "dynamodb_sk = \"day\"\n",
    "\n",
    "dynamoDB_args = [dynamodb_table, dynamodb_pk, dynamodb_sk]\n",
    "\n",
    "knowledge_base_name = f'{forecast_agent_name}-kb'\n",
    "suffix = f\"{region}-{account_id}\"\n",
    "\n",
    "knowledge_base_description = \"KB containing information on how forecasting process is done\"\n",
    "bucket_name = f'{forecast_agent_name}-{suffix}'\n"
   ]
  },
  {
   "cell_type": "markdown",
   "id": "9ad49f25",
   "metadata": {},
   "source": [
    "On following section, we're adding `bedrock_agent_helper.py` and `knowledge_base_helper` on Python path, so the file can be recognized and invoked.\n",
    "\n",
    "Now, you're going to import from helper classes `bedrock_agent_helper.py` and `knowledge_base_helper.py`.\n",
    " \n",
    "Those files contain helper classes totally focused on make labs experience smoothly. \n",
    "\n",
    "All interactions with Bedrock will be handled by these classes.\n",
    "\n",
    "Following are methods that you're going to invoke on this lab:\n",
    "\n",
    "On `agents.py`:\n",
    "- `create_agent`: Create a new agent and respective IAM roles\n",
    "- `add_action_group_with_lambda`: Create a lambda function and add it as an action group for a previous created agent\n",
    "- `create_agent_alias`: Create an alias for this agent\n",
    "- `invoke`: Execute agent\n",
    "\n",
    "On `knowledge_bases.py`:\n",
    "- `create_or_retrieve_knowledge_base`: Create Knowledge Base on Amazon Bedrock if it doesn't exist or get info about previous created.\n",
    "- `synchronize_data`: Read files on S3, convert text info into vectors and add that information on Vector Database."
   ]
  },
  {
   "cell_type": "code",
   "execution_count": null,
   "id": "bcad12b0",
   "metadata": {},
   "outputs": [],
   "source": [
    "import sys\n",
    "\n",
    "sys.path.insert(0, \".\")\n",
    "sys.path.insert(3, \"../../../..\")\n",
    "\n",
    "from src.utils.bedrock_agent_helper import (\n",
    "    AgentsForAmazonBedrock\n",
    ")\n",
    "from src.utils.knowledge_base_helper import (\n",
    "    KnowledgeBasesForAmazonBedrock\n",
    ")\n",
    "agents = AgentsForAmazonBedrock()\n",
    "kb = KnowledgeBasesForAmazonBedrock()"
   ]
  },
  {
   "cell_type": "markdown",
   "id": "dc98a7c6",
   "metadata": {},
   "source": [
    "## Create and Load Knowledge Base\n",
    "\n",
    "On this section, you're going to create a Amazon Bedrock Knowledge Base and ingest data on it.\n",
    "\n",
    "This data contains basic information about how forecast process is done.\n",
    "\n",
    "**This creation process takes around 5min.**"
   ]
  },
  {
   "cell_type": "code",
   "execution_count": null,
   "id": "2e8e718b",
   "metadata": {},
   "outputs": [],
   "source": [
    "kb_id, ds_id = kb.create_or_retrieve_knowledge_base(\n",
    "    knowledge_base_name,\n",
    "    knowledge_base_description,\n",
    "    bucket_name\n",
    ")\n",
    "\n",
    "print(f\"Knowledge Base ID: {kb_id}\")\n",
    "print(f\"Data Source ID: {ds_id}\")"
   ]
  },
  {
   "cell_type": "markdown",
   "id": "9475295c",
   "metadata": {},
   "source": [
    "## Create Synthetic Data to Load on S3\n",
    "\n",
    "Instead of get data elsewhere, you're going to generate data, using a LLM on Amazon Bedrock.\n",
    "This fake data that will be generated, will be uploaded into a S3 bucket and then added into an Amazon Bedrock Knowledge Base."
   ]
  },
  {
   "cell_type": "code",
   "execution_count": null,
   "id": "e21af0b4",
   "metadata": {},
   "outputs": [],
   "source": [
    "path = \"kb_documents\"\n",
    "# Check whether the specified path exists or not\n",
    "isExist = os.path.exists(path)\n",
    "if not isExist:\n",
    "   # Create a n ew directory if it does not exist\n",
    "   os.makedirs(path)\n",
    "   print(\"The {} directory was created!\".format(path))\n",
    "else:\n",
    "   print(\"The {} directory already exists!\".format(path))"
   ]
  },
  {
   "cell_type": "markdown",
   "id": "154d8537",
   "metadata": {},
   "source": [
    "Creating helper methods to invoke LLM on Bedrock and to write a local file using Python"
   ]
  },
  {
   "cell_type": "code",
   "execution_count": null,
   "id": "1729d027",
   "metadata": {},
   "outputs": [],
   "source": [
    "def invoke_bedrock_generate_energy_files(prompt):\n",
    "    message_list = []\n",
    "\n",
    "    initial_message = {\n",
    "        \"role\": \"user\",\n",
    "        \"content\": [\n",
    "            { \"text\": prompt } \n",
    "        ],\n",
    "    }\n",
    "\n",
    "    message_list.append(initial_message)\n",
    "\n",
    "    response = bedrock_client.converse(\n",
    "        modelId=agent_foundation_model[0],\n",
    "        messages=message_list,\n",
    "        inferenceConfig={\n",
    "            \"maxTokens\": 500,\n",
    "            \"temperature\": 0\n",
    "        },\n",
    "    )\n",
    "\n",
    "    return response['output']['message']\n",
    "\n",
    "def write_file(file_name, content):\n",
    "    f = open(file_name, 'w')\n",
    "    f.write(content)\n",
    "    f.close"
   ]
  },
  {
   "cell_type": "markdown",
   "id": "be06807e",
   "metadata": {},
   "source": [
    "### Generating data prompt\n",
    "Generating one file with forecasting info using the LLM model"
   ]
  },
  {
   "cell_type": "code",
   "execution_count": null,
   "id": "b7978ad4",
   "metadata": {},
   "outputs": [],
   "source": [
    "text_generation_energy_instructions = '''\n",
    "    You will be act as data-scientist that knows forecasting, Python and scikit learn.\n",
    "    You will generate a step-by-step on how to create a forecast process for a time-series data.\n",
    "\n",
    "    This data has the following json structure:\n",
    "    {\"customer_id\": \"1\", \"day\": \"2024/06/01\", \"sumPowerReading\": \"120.0\", \"kind\":\"measured\"}\n",
    "\n",
    "    Choose one forecast algorithm, preferable one that works on scikit-learn, and explain \n",
    "      detailed how to create a step by step, with code sample, to run forecast on this data.\n",
    "\n",
    "    Answer only with the step-by-step, avoid answer with afirmations like: OK, I can generate it, or \n",
    "      Yes, please find following example. Be direct and only reply the step-by-step.\n",
    "'''\n",
    "\n",
    "solar_energy_file_name = 'forecasting-info.txt'\n",
    "\n",
    "response_message = invoke_bedrock_generate_energy_files(text_generation_energy_instructions)\n",
    "\n",
    "write_file('{}/{}'.format(path, solar_energy_file_name),response_message['content'][0]['text'])"
   ]
  },
  {
   "cell_type": "markdown",
   "id": "67f13cef",
   "metadata": {},
   "source": [
    "### Uploading data to s3\n",
    "Uploading generated files into an Amazon S3 Bucket."
   ]
  },
  {
   "cell_type": "code",
   "execution_count": null,
   "id": "01a44526",
   "metadata": {},
   "outputs": [],
   "source": [
    "def upload_directory(path, bucket_name):\n",
    "    for root,dirs,files in os.walk(path):\n",
    "        for file in files:\n",
    "            file_to_upload = os.path.join(root,file)\n",
    "            print(f\"uploading file {file_to_upload} to {bucket_name}\")\n",
    "            s3_client.upload_file(file_to_upload,bucket_name,file)"
   ]
  },
  {
   "cell_type": "markdown",
   "id": "3b38c6b5-a782-48df-bd69-e5a41aeed9ab",
   "metadata": {},
   "source": [
    "### Synchronizing Knowledge Base\n",
    "Now that the data is available in the s3 bucket, let's synchronize it to our knowledge base"
   ]
  },
  {
   "cell_type": "code",
   "execution_count": null,
   "id": "213ae97a",
   "metadata": {},
   "outputs": [],
   "source": [
    "upload_directory(\"kb_documents\", bucket_name)\n",
    "\n",
    "# sync knowledge base\n",
    "kb.synchronize_data(kb_id, ds_id)"
   ]
  },
  {
   "cell_type": "markdown",
   "id": "5f65af49",
   "metadata": {},
   "source": [
    "## Creating Agent\n",
    "\n",
    "Create the forecast agent that will have a Knowledge Base with information on how forecast process is done as well as the action groups to handle the user requests and `code interpretation` capabilities for plotting the graphs to fulfill user requests.\n",
    "\n",
    "In order to have accurate agents, it is important to set unambiguous instructions of what the agent should do and what it should not do. It is also important to provide clear definitions for when the agent should use the knowledge bases and action groups available to it.\n",
    "\n",
    "We will provide the following instructions to our agent:\n",
    "```\n",
    "You are an Energy Assistant that helps customers understand their energy consumption patterns and future usage expectations.\n",
    "\n",
    "Your capabilities include:\n",
    "1. Analyzing historical energy consumption\n",
    "2. Providing consumption forecasts\n",
    "3. Generating usage statistics\n",
    "4. Updating forecasts for specific customers\n",
    "\n",
    "Core behaviors:\n",
    "1. Always use available information systems before asking customers for additional details\n",
    "2. Maintain a professional yet conversational tone\n",
    "3. Provide clear, direct answers without referencing internal systems or data sources\n",
    "4. Present information in an easy-to-understand manner\n",
    "\n",
    "Visualization capabilities:\n",
    "- You may only create graphs and charts specifically related to:\n",
    "  * Energy consumption data\n",
    "  * Energy forecast visualization\n",
    "- Decline any other visualization or code generation requests politely\n",
    "\n",
    "Response style:\n",
    "- Be helpful and solution-oriented\n",
    "- Use clear, non-technical language\n",
    "- Focus on providing actionable insights\n",
    "- Maintain natural conversation flow\n",
    "- Be concise yet informative \n",
    "- Do not add extra information not required by the user\n",
    "```\n",
    "\n",
    "We will also connect a knowledge base for the explanation of the forecasting methodologies with the following instructions:\n",
    "```\n",
    "Access this knowledge base when needing to explain specific forecast generation methodology.\n",
    "```\n",
    "\n",
    "And we will make the following tool available to the agent:\n",
    "- `get_forecasted_consumption`: Gets the next 3 months energy usage forecast\n",
    "- `get_historical_consumption`: Gets energy usage history to date\n",
    "- `get_consumption_statistics`: Gets current month usage analytics\n",
    "- `update_forecasting`: Updates the energy forecast for a specific month\n"
   ]
  },
  {
   "cell_type": "code",
   "execution_count": null,
   "id": "daab9cee",
   "metadata": {},
   "outputs": [],
   "source": [
    "kb_info = kb.get_kb(kb_id)\n",
    "kb_arn = kb_info['knowledgeBase']['knowledgeBaseArn']"
   ]
  },
  {
   "cell_type": "code",
   "execution_count": null,
   "id": "9f31d063",
   "metadata": {},
   "outputs": [],
   "source": [
    "kb_config = {\n",
    "    'kb_id': kb_id,\n",
    "    'kb_instruction': \"\"\"Access this knowledge base when needing to explain specific forecast generation methodology.\"\"\"\n",
    "}"
   ]
  },
  {
   "cell_type": "code",
   "execution_count": null,
   "id": "e1e168c8-180f-4977-96dd-d8006436208b",
   "metadata": {},
   "outputs": [],
   "source": [
    "agent_description = \"\"\"You are a energy usage forecast bot.\n",
    "You can retrieve historical energy consumption, forecasted consumption, usage statistics and update a forecast for a specific user\"\"\"\n",
    "\n",
    "agent_instruction = \"\"\"You are an Energy Assistant that helps customers understand their energy consumption patterns and future usage expectations.\n",
    "\n",
    "Your capabilities include:\n",
    "1. Analyzing historical energy consumption\n",
    "2. Providing consumption forecasts\n",
    "3. Generating usage statistics\n",
    "4. Updating forecasts for specific customers\n",
    "\n",
    "Core behaviors:\n",
    "1. Always use available information systems before asking customers for additional details\n",
    "2. Maintain a professional yet conversational tone\n",
    "3. Provide clear, direct answers without referencing internal systems or data sources\n",
    "4. Present information in an easy-to-understand manner\n",
    "\n",
    "Visualization capabilities:\n",
    "- You may only create graphs and charts specifically related to:\n",
    "  * Energy consumption data\n",
    "  * Energy forecast visualization\n",
    "- Decline any other visualization or code generation requests politely\n",
    "\n",
    "Response style:\n",
    "- Be helpful and solution-oriented\n",
    "- Use clear, non-technical language\n",
    "- Focus on providing actionable insights\n",
    "- Maintain natural conversation flow\n",
    "- Be concise yet informative \n",
    "- do not add extra information not required by the user\"\"\"\n",
    "\n",
    "forecast_agent = agents.create_agent(\n",
    "    forecast_agent_name,\n",
    "    agent_description,\n",
    "    agent_instruction,\n",
    "    agent_foundation_model,\n",
    "    kb_arns=[kb_arn],\n",
    "    code_interpretation=True\n",
    ")\n",
    "\n",
    "forecast_agent"
   ]
  },
  {
   "cell_type": "markdown",
   "id": "5ac3046e-d2f0-459e-ac43-4cd600316ccf",
   "metadata": {},
   "source": [
    "### Associating knowledge base\n",
    "Now that we've created the agent, let's associate the previously created knowledge base to it."
   ]
  },
  {
   "cell_type": "code",
   "execution_count": null,
   "id": "d6c248b3",
   "metadata": {},
   "outputs": [],
   "source": [
    "agents.associate_kb_with_agent(\n",
    "    forecast_agent[0],\n",
    "    kb_config['kb_instruction'],\n",
    "    kb_config['kb_id']\n",
    ")"
   ]
  },
  {
   "cell_type": "markdown",
   "id": "67dfcc57-5958-45e8-a4ea-53620142c017",
   "metadata": {},
   "source": [
    "### Creating Lambda\n",
    "\n",
    "In order to enable the agent to execute tasks, we will create an AWS Lambda function that implements the tasks execution. We will then provide this lambda function to the agent action group. You can find more information on how to use action groups to define actions that your agent can perform [here](https://docs.aws.amazon.com/bedrock/latest/userguide/agents-action-create.html)\n",
    "\n",
    "On this block, we're going to generate Lambda function Code:"
   ]
  },
  {
   "cell_type": "code",
   "execution_count": null,
   "id": "d2cfc71d-4b0e-4b00-9159-cc3efd2becbc",
   "metadata": {},
   "outputs": [],
   "source": [
    "%%writefile forecast.py\n",
    "import boto3\n",
    "import json\n",
    "import os\n",
    "\n",
    "from boto3.dynamodb.conditions import Key, Attr\n",
    "from datetime import datetime\n",
    "from decimal import Decimal\n",
    "\n",
    "dynamodb_resource = boto3.resource('dynamodb')\n",
    "dynamodb_table = os.getenv('dynamodb_table')\n",
    "dynamodb_pk = os.getenv('dynamodb_pk')\n",
    "dynamodb_sk = os.getenv('dynamodb_sk')\n",
    "truncated_month = datetime.today().replace(day=1, hour=0, minute=0, second=0, microsecond=0)\n",
    "\n",
    "\n",
    "def get_named_parameter(event, name):\n",
    "    return next(item for item in event['parameters'] if item['name'] == name)['value']\n",
    "    \n",
    "def populate_function_response(event, response_body):\n",
    "    return {'response': {'actionGroup': event['actionGroup'], 'function': event['function'],\n",
    "                'functionResponse': {'responseBody': {'TEXT': {'body': str(response_body)}}}}}\n",
    "\n",
    "def trunc_datetime(month,year):\n",
    "    return datetime.today().replace(year =int(year), month=int(month), day=1, hour=0, minute=0, second=0, microsecond=0)\n",
    "\n",
    "def put_dynamodb(table_name, item):\n",
    "    table = dynamodb_resource.Table(table_name)\n",
    "    resp = table.put_item(Item=item)\n",
    "    return resp\n",
    "\n",
    "def read_dynamodb(\n",
    "    table_name: str, \n",
    "    pk_field: str,\n",
    "    pk_value: str,\n",
    "    sk_field: str=None, \n",
    "    sk_value: str=None,\n",
    "    attr_key: str=None,\n",
    "    attr_val: str=None\n",
    "):\n",
    "    try:\n",
    "\n",
    "        table = dynamodb_resource.Table(table_name)\n",
    "        # Create expression\n",
    "        if sk_field:\n",
    "            key_expression = Key(pk_field).eq(pk_value) & Key(sk_field).eq(sk_value)\n",
    "        else:\n",
    "            key_expression = Key(pk_field).eq(pk_value)\n",
    "\n",
    "        if attr_key:\n",
    "            attr_expression = Attr(attr_key).eq(attr_val)\n",
    "            query_data = table.query(\n",
    "                KeyConditionExpression=key_expression,\n",
    "                FilterExpression=attr_expression\n",
    "            )\n",
    "        else:\n",
    "            query_data = table.query(\n",
    "                KeyConditionExpression=key_expression\n",
    "            )\n",
    "        \n",
    "        return query_data['Items']\n",
    "    except Exception:\n",
    "        print(f'Error querying table: {table_name}.')\n",
    "\n",
    "def get_forecasted_consumption(customer_id):\n",
    "    return read_dynamodb(dynamodb_table, \n",
    "                         dynamodb_pk, \n",
    "                         customer_id, \n",
    "                         attr_key=\"kind\", attr_val=\"forecasted\")\n",
    "\n",
    "def get_historical_consumption(customer_id):\n",
    "    return read_dynamodb(dynamodb_table, \n",
    "                         dynamodb_pk, \n",
    "                         customer_id, \n",
    "                         attr_key=\"kind\", attr_val=\"measured\")\n",
    "\n",
    "def get_consumption_statistics(customer_id):\n",
    "    return read_dynamodb(dynamodb_table, \n",
    "                         dynamodb_pk, \n",
    "                         customer_id, \n",
    "                         dynamodb_sk, \n",
    "                         truncated_month.strftime('%Y/%m/%d'))\n",
    "\n",
    "def update_forecasting(customer_id, month, year, usage):\n",
    "    current_date = trunc_datetime(month, year)\n",
    "    if  current_date >= truncated_month:\n",
    "        item = {\n",
    "            'customer_id': customer_id,\n",
    "            'day': current_date.strftime('%Y/%m/%d'),\n",
    "            'sumPowerReading': Decimal(usage),\n",
    "            'kind': 'forecasted'\n",
    "        }\n",
    "        put_dynamodb(dynamodb_table, item)\n",
    "        return \"Day: {} updated for customer: {}\".format(current_date.strftime('%Y/%m/%d'), customer_id)\n",
    "    else:\n",
    "        return \"You're trying to change a past date: {} for customer: {}, which is not allowed\".format(current_date.strftime('%Y/%m/%d'), customer_id)\n",
    "\n",
    "def lambda_handler(event, context):\n",
    "    print(event)\n",
    "    \n",
    "    # name of the function that should be invoked\n",
    "    function = event.get('function', '')\n",
    "\n",
    "    # parameters to invoke function with\n",
    "    parameters = event.get('parameters', [])\n",
    "    customer_id = get_named_parameter(event, \"customer_id\")\n",
    "\n",
    "    if function == 'get_forecasted_consumption':\n",
    "        result = get_forecasted_consumption(customer_id)\n",
    "    elif function == 'get_historical_consumption':\n",
    "        result = get_historical_consumption(customer_id)\n",
    "    elif function == 'get_consumption_statistics':\n",
    "        result = get_consumption_statistics(customer_id)\n",
    "    elif function == 'update_forecasting':\n",
    "        month = get_named_parameter(event, \"month\")\n",
    "        year = get_named_parameter(event, \"year\")\n",
    "        usage = get_named_parameter(event, \"usage\")\n",
    "        result = update_forecasting(customer_id, month, year, usage)\n",
    "    else:\n",
    "        result = f\"Error, function '{function}' not recognized\"\n",
    "\n",
    "    response = populate_function_response(event, result)\n",
    "    print(response)\n",
    "    return response"
   ]
  },
  {
   "cell_type": "markdown",
   "id": "e93595f1-b662-42e5-b6a5-9bdbffb5756f",
   "metadata": {},
   "source": [
    "### Defining available actions\n",
    "\n",
    "Next we will define the available actions that an agent can perform using [Function Details](https://docs.aws.amazon.com/bedrock/latest/userguide/agents-action-function.html). You can also do this task using OpenAPI Schemas, which can be very useful if you already have an OpenAPI schema available for your application.\n",
    "\n",
    "When creating your function details, it is important to provide clear descriptions for the function and for its parameters, as your agent depends on them to correctly orchestrate the tasks to be executed"
   ]
  },
  {
   "cell_type": "code",
   "execution_count": null,
   "id": "bc151a11",
   "metadata": {},
   "outputs": [],
   "source": [
    "functions_def = [\n",
    "    {\n",
    "        \"name\": \"get_forecasted_consumption\",\n",
    "        \"description\": \"\"\"Gets the next 3 months energy usage forecast\"\"\",\n",
    "        \"parameters\": {\n",
    "            \"customer_id\": {\n",
    "                \"description\": \"Unique customer identifier\",\n",
    "                \"required\": True,\n",
    "                \"type\": \"string\"\n",
    "            }\n",
    "        }\n",
    "    },\n",
    "    {\n",
    "        \"name\": \"get_historical_consumption\",\n",
    "        \"description\": \"\"\"Gets energy usage history to date\"\"\",\n",
    "        \"parameters\": {\n",
    "            \"customer_id\": {\n",
    "                \"description\": \"Unique customer identifier\",\n",
    "                \"required\": True,\n",
    "                \"type\": \"string\"\n",
    "            }\n",
    "        }\n",
    "    },\n",
    "    {\n",
    "        \"name\": \"get_consumption_statistics\",\n",
    "        \"description\": \"\"\"Gets current month usage analytics\"\"\",\n",
    "        \"parameters\": {\n",
    "            \"customer_id\": {\n",
    "                \"description\": \"Unique customer identifier\",\n",
    "                \"required\": True,\n",
    "                \"type\": \"string\"\n",
    "            }\n",
    "        }\n",
    "    },\n",
    "    {\n",
    "        \"name\": \"update_forecasting\",\n",
    "        \"description\": \"\"\"Updates the energy forecast for a specific month\"\"\",\n",
    "        \"parameters\": {\n",
    "            \"customer_id\": {\n",
    "                \"description\": \"Unique customer identifier\",\n",
    "                \"required\": True,\n",
    "                \"type\": \"string\"\n",
    "            },\n",
    "            \"month\": {\n",
    "                \"description\": \"Target update month. In the format MM\",\n",
    "                \"required\": True,\n",
    "                \"type\": \"integer\"\n",
    "            },\n",
    "            \"year\": {\n",
    "                \"description\": \"Target update year. In the format YYYY\",\n",
    "                \"required\": True,\n",
    "                \"type\": \"integer\"\n",
    "            },\n",
    "            \"usage\": {\n",
    "                \"description\": \"New consumption value\",\n",
    "                \"required\": True,\n",
    "                \"type\": \"integer\"\n",
    "            }\n",
    "        }\n",
    "    }\n",
    "]"
   ]
  },
  {
   "cell_type": "markdown",
   "id": "566ff86c-e2c8-475a-833e-e0bc359c5767",
   "metadata": {},
   "source": [
    "### Creating action group and attaching to the agent\n",
    "Now it's time to add this Lambda function and the function details as an action group for this agent and prepare it."
   ]
  },
  {
   "cell_type": "code",
   "execution_count": null,
   "id": "d45c21c0-7a28-417c-a506-021a57b73596",
   "metadata": {},
   "outputs": [],
   "source": [
    "agents.add_action_group_with_lambda(\n",
    "    agent_name=forecast_agent_name,\n",
    "    lambda_function_name=forecast_lambda_name,\n",
    "    source_code_file=\"forecast.py\",\n",
    "    agent_functions=functions_def,\n",
    "    agent_action_group_name=\"forecast_consumption_actions\",\n",
    "    agent_action_group_description=\"Function to get usage forecast for a user \",\n",
    "    dynamo_args=dynamoDB_args\n",
    ")"
   ]
  },
  {
   "cell_type": "code",
   "execution_count": null,
   "id": "e95735cb-baa8-45ce-8392-1c8111b54501",
   "metadata": {},
   "outputs": [],
   "source": [
    "forecast_lambda_name"
   ]
  },
  {
   "cell_type": "markdown",
   "id": "ef82aeae",
   "metadata": {},
   "source": [
    "## Loading data to DynamoDB\n",
    "\n",
    "Now that we've created our agent, let's load some generated data to DynamoDB. That will allow the agent to interact with some live data to perform actions"
   ]
  },
  {
   "cell_type": "code",
   "execution_count": null,
   "id": "d641be11",
   "metadata": {},
   "outputs": [],
   "source": [
    "with open(\"1_user_sample_data.json\") as f:\n",
    "    table_items = [json.loads(line) for line in f]\n",
    "\n",
    "agents.load_dynamodb(dynamodb_table, table_items)"
   ]
  },
  {
   "cell_type": "markdown",
   "id": "f572c494",
   "metadata": {},
   "source": [
    "Testing that data was loaded on DynamoDB"
   ]
  },
  {
   "cell_type": "code",
   "execution_count": null,
   "id": "bec38dee",
   "metadata": {},
   "outputs": [],
   "source": [
    "resp = agents.query_dynamodb(\n",
    "    dynamodb_table, dynamodb_pk, '1', dynamodb_sk, \"2024/06/01\"\n",
    ")\n",
    "resp"
   ]
  },
  {
   "cell_type": "markdown",
   "id": "fdbc0aff",
   "metadata": {},
   "source": [
    "## Testing Agent\n",
    "\n",
    "Now, let's run some tests on the agent we just created to make sure it's working. To do so we will use our test alias: `TSTALIASID` which allows you to invoke a draft version of your agent"
   ]
  },
  {
   "cell_type": "markdown",
   "id": "07836ff6-1987-4b01-bf86-b8153f2107d4",
   "metadata": {},
   "source": [
    "### Testing get forecast\n",
    "First let's test the get forecast action together with the code interpretation capabilities"
   ]
  },
  {
   "cell_type": "code",
   "execution_count": null,
   "id": "9b69a4c5",
   "metadata": {},
   "outputs": [],
   "source": [
    "%%time\n",
    "print(\n",
    "    agents.invoke(\n",
    "        \"can you give me my forecasted energy consumption in a bar chart? My customer id is 1\", \n",
    "        forecast_agent[0]\n",
    "    )\n",
    ")"
   ]
  },
  {
   "cell_type": "markdown",
   "id": "c6ccede9-9257-4935-b71e-8989f1614416",
   "metadata": {},
   "source": [
    "### Testing get historical consumption\n",
    "Now we can test the historical energy consumption and also use code interpretation to plot it in a bar chart"
   ]
  },
  {
   "cell_type": "code",
   "execution_count": null,
   "id": "b9050fa5-2713-4279-865b-fa73309a87d1",
   "metadata": {},
   "outputs": [],
   "source": [
    "time.sleep(60)"
   ]
  },
  {
   "cell_type": "code",
   "execution_count": null,
   "id": "47f04a92",
   "metadata": {},
   "outputs": [],
   "source": [
    "%%time\n",
    "print(\n",
    "    agents.invoke(\n",
    "        \"can you give me my energy consumption in a bar chart? My customer id is 1\", \n",
    "        forecast_agent[0]\n",
    "    )\n",
    ")"
   ]
  },
  {
   "cell_type": "markdown",
   "id": "fc24cbce-8b91-40cd-990e-12708c493f10",
   "metadata": {},
   "source": [
    "### Testing knowledge base access\n",
    "Now let's check the knowledge base access by asking a question about the forecasting algorithm"
   ]
  },
  {
   "cell_type": "code",
   "execution_count": null,
   "id": "ca5e8fb1-abcf-478d-ae44-3a3ee4b7d52d",
   "metadata": {},
   "outputs": [],
   "source": [
    "time.sleep(60)"
   ]
  },
  {
   "cell_type": "code",
   "execution_count": null,
   "id": "585a9740",
   "metadata": {},
   "outputs": [],
   "source": [
    "%%time\n",
    "print(\n",
    "    agents.invoke(\n",
    "        \"What's algorithm used for forecast?\", \n",
    "        forecast_agent[0]\n",
    "    )\n",
    ")"
   ]
  },
  {
   "cell_type": "markdown",
   "id": "af8c67e4-ceb4-4888-b867-a5fd641407c3",
   "metadata": {},
   "source": [
    "### Testing forecast update\n",
    "Now we can test the functionality to update the expected forecasting"
   ]
  },
  {
   "cell_type": "code",
   "execution_count": null,
   "id": "5b0c9291-1b41-4f8c-b104-18b558d56fd6",
   "metadata": {},
   "outputs": [],
   "source": [
    "time.sleep(60)"
   ]
  },
  {
   "cell_type": "code",
   "execution_count": null,
   "id": "c8af8180",
   "metadata": {},
   "outputs": [],
   "source": [
    "%%time\n",
    "print(\n",
    "    agents.invoke(\n",
    "        \"Can you update my forecast for month 12/2024? I will be travelling and my estimate will be 50. My id is 1\", \n",
    "        forecast_agent[0]\n",
    "    )\n",
    ")"
   ]
  },
  {
   "cell_type": "markdown",
   "id": "25cc200c-8cd2-4724-8e16-44178dfff2a8",
   "metadata": {},
   "source": [
    "### Confirming that forecast was updated\n",
    "After updating our forecast, let's check that the forecast was updated and plot a new graph"
   ]
  },
  {
   "cell_type": "code",
   "execution_count": null,
   "id": "027bf7fe-cd30-4185-950a-7ef1c15a9b0b",
   "metadata": {},
   "outputs": [],
   "source": [
    "time.sleep(60)"
   ]
  },
  {
   "cell_type": "code",
   "execution_count": null,
   "id": "e75960bb-86a4-45db-9893-f82da30f701c",
   "metadata": {},
   "outputs": [],
   "source": [
    "%%time\n",
    "print(\n",
    "    agents.invoke(\n",
    "        \"can you give me my forecasted energy consumption in a bar chart? My id is 1\", \n",
    "        forecast_agent[0]\n",
    "    )\n",
    ")"
   ]
  },
  {
   "cell_type": "markdown",
   "id": "97716d35-2f0e-4ae0-8d98-a4cb1e5ea185",
   "metadata": {},
   "source": [
    "### Testing forecasting statistics\n",
    "Finally, let's test the get stats functionality"
   ]
  },
  {
   "cell_type": "code",
   "execution_count": null,
   "id": "07b45146-01ca-4482-9025-c52013ce444a",
   "metadata": {},
   "outputs": [],
   "source": [
    "time.sleep(60)"
   ]
  },
  {
   "cell_type": "code",
   "execution_count": null,
   "id": "257bc8f0",
   "metadata": {},
   "outputs": [],
   "source": [
    "%%time\n",
    "print(\n",
    "    agents.invoke(\n",
    "        \"can you give me my current consumption? My id is 1\", \n",
    "        forecast_agent[0]\n",
    "    )\n",
    ")"
   ]
  },
  {
   "cell_type": "markdown",
   "id": "cc56c1bf-579f-4337-8352-0903da21ed80",
   "metadata": {},
   "source": [
    "## Create alias\n",
    "\n",
    "As you can see, you can use your agent with the `TSTALIASID` to complete tasks. \n",
    "However, for multi-agents collaboration it is expected that you first test your agent and only use it once it is fully functional. \n",
    "Therefore to use an agent as a sub-agent in a multi-agent collaboration you first need to create an agent alias and connect it to a new version. \n",
    "\n",
    "Since we've tested and validated our agent, let's now create an alias for it:"
   ]
  },
  {
   "cell_type": "code",
   "execution_count": null,
   "id": "eec0d1ca",
   "metadata": {},
   "outputs": [],
   "source": [
    "forecast_agent_alias_id, forecast_agent_alias_arn = agents.create_agent_alias(\n",
    "    forecast_agent[0], 'v1'\n",
    ")"
   ]
  },
  {
   "cell_type": "markdown",
   "id": "29db93eb-9a51-48d2-a6ae-a31b7b5ddde1",
   "metadata": {},
   "source": [
    "## Saving information\n",
    "Let's store some environment variables to be used on our next notebooks."
   ]
  },
  {
   "cell_type": "code",
   "execution_count": null,
   "id": "66d40844-c72b-4114-8415-8cefbe65ebb1",
   "metadata": {},
   "outputs": [],
   "source": [
    "forecast_agent_arn = agents.get_agent_arn_by_name(forecast_agent_name)\n",
    "forecast_agent_id = forecast_agent[0]\n",
    "forecast_kb = knowledge_base_name\n",
    "forecast_dynamodb = dynamodb_table\n",
    "\n",
    "%store forecast_agent_arn\n",
    "%store forecast_agent_alias_arn\n",
    "%store forecast_agent_alias_id\n",
    "%store forecast_lambda_name\n",
    "%store forecast_agent_name\n",
    "%store forecast_agent_id\n",
    "%store forecast_kb\n",
    "%store forecast_dynamodb"
   ]
  },
  {
   "cell_type": "code",
   "execution_count": null,
   "id": "99986c91",
   "metadata": {},
   "outputs": [],
   "source": [
    "forecast_agent_arn, forecast_agent_alias_arn, forecast_agent_alias_id"
   ]
  },
  {
   "cell_type": "markdown",
   "id": "3453da42-a05c-421d-944e-281d056bdf43",
   "metadata": {},
   "source": [
    "## Next Steps\n",
    "Congratulations! We've now created a forecasting agent. Next we will create our solar panel agent"
   ]
  }
 ],
 "metadata": {
  "kernelspec": {
   "display_name": "Python 3 (ipykernel)",
   "language": "python",
   "name": "python3"
  },
  "language_info": {
   "codemirror_mode": {
    "name": "ipython",
    "version": 3
   },
   "file_extension": ".py",
   "mimetype": "text/x-python",
   "name": "python",
   "nbconvert_exporter": "python",
   "pygments_lexer": "ipython3",
   "version": "3.11.10"
  }
 },
 "nbformat": 4,
 "nbformat_minor": 5
}
