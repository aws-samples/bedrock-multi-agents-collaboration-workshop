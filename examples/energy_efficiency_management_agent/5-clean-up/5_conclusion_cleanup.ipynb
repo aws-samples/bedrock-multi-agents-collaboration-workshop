{
 "cells": [
  {
   "cell_type": "markdown",
   "id": "fb8d63a2-913e-498a-a01a-5e66a39bf3e7",
   "metadata": {},
   "source": [
    "## Lab 5. Conclusion / Clean Up"
   ]
  },
  {
   "cell_type": "markdown",
   "id": "63678eaa-8830-4cbe-94af-5ebd8b0e03e0",
   "metadata": {},
   "source": [
    "### Conclusion\n",
    "\n",
    "Congratulations!\n",
    "\n",
    "You have been completed all labs for this session. Now you're able to understand how Amazon Bedrock and Agents work, and also, how to orchestrate a multi-step task/workflow using Amazon Bedrock Multi-Agent Collaboration feature.\n",
    "\n",
    "This is an **optional** lab to delete created resources from your AWS account."
   ]
  },
  {
   "cell_type": "code",
   "execution_count": null,
   "id": "fbe54b46",
   "metadata": {},
   "outputs": [],
   "source": [
    "import os\n",
    "import sys"
   ]
  },
  {
   "cell_type": "markdown",
   "id": "0bb52531",
   "metadata": {},
   "source": [
    "On following section, we're adding `agents.py` and `knowledge_bases.py` on Python path, so the files can be recognized and invoked."
   ]
  },
  {
   "cell_type": "code",
   "execution_count": null,
   "id": "1324f145",
   "metadata": {},
   "outputs": [],
   "source": [
    "# Get the current file's directory\n",
    "current_dir = os.path.dirname(os.path.abspath('__file__'))\n",
    "\n",
    "parent_dir = os.path.dirname(current_dir)\n",
    "#print(parent_dir)\n",
    "\n",
    "# Add the parent directory to sys.path\n",
    "sys.path.append(parent_dir)"
   ]
  },
  {
   "cell_type": "code",
   "execution_count": null,
   "id": "6d11910e",
   "metadata": {},
   "outputs": [],
   "source": [
    "from agent import AgentsForAmazonBedrock\n",
    "from knowledge_bases import KnowledgeBasesForAmazonBedrock\n",
    "\n",
    "agents = AgentsForAmazonBedrock()\n",
    "kb = KnowledgeBasesForAmazonBedrock()"
   ]
  },
  {
   "cell_type": "markdown",
   "id": "997a4e44",
   "metadata": {},
   "source": [
    "Retrieve variables from previous notebooks to clean up resources."
   ]
  },
  {
   "cell_type": "code",
   "execution_count": null,
   "id": "99986c91",
   "metadata": {},
   "outputs": [],
   "source": [
    "%store -r"
   ]
  },
  {
   "cell_type": "code",
   "execution_count": null,
   "id": "516c3080",
   "metadata": {},
   "outputs": [],
   "source": []
  },
  {
   "cell_type": "markdown",
   "id": "e5327b71",
   "metadata": {},
   "source": [
    "### Clean Up Resources\n",
    "\n",
    "Following blocks will delete resources created on previous labs."
   ]
  },
  {
   "cell_type": "markdown",
   "id": "df79e349",
   "metadata": {},
   "source": [
    "Delete all Lambda functions"
   ]
  },
  {
   "cell_type": "code",
   "execution_count": 5,
   "id": "62dba01a",
   "metadata": {},
   "outputs": [],
   "source": [
    "agents.delete_lambda(forecast_lambda_name)\n",
    "agents.delete_lambda(compliance_lambda_name)\n",
    "agents.delete_lambda(peak_lambda_name)"
   ]
  },
  {
   "cell_type": "markdown",
   "id": "eacaa3eb",
   "metadata": {},
   "source": [
    "Delete all Agent aliases"
   ]
  },
  {
   "cell_type": "code",
   "execution_count": null,
   "id": "12b36a35",
   "metadata": {},
   "outputs": [],
   "source": [
    "agents.delete_agent_alias(forecast_agent_alias_id, forecast_agent_id)\n",
    "agents.delete_agent_alias(compliance_agent_alias_id, compliance_agent_id)\n",
    "agents.delete_agent_alias(peak_agent_alias_id, peak_agent_id)"
   ]
  },
  {
   "cell_type": "markdown",
   "id": "4d747e18",
   "metadata": {},
   "source": [
    "Delete all agents"
   ]
  },
  {
   "cell_type": "code",
   "execution_count": null,
   "id": "a62c723e",
   "metadata": {},
   "outputs": [],
   "source": [
    "agents.delete_agent(forecast_agent_name)\n",
    "agents.delete_agent(compliance_agent_name)\n",
    "agents.delete_agent(peak_agent_name)\n",
    "agents.delete_agent(energy_agent_name)"
   ]
  },
  {
   "cell_type": "markdown",
   "id": "2c74e29f",
   "metadata": {},
   "source": [
    "Delete Knowledge Base"
   ]
  },
  {
   "cell_type": "code",
   "execution_count": null,
   "id": "43c8c6da",
   "metadata": {},
   "outputs": [],
   "source": [
    "kb.delete_kb(knowledge_base_name)"
   ]
  }
 ],
 "metadata": {
  "kernelspec": {
   "display_name": "Python 3 (ipykernel)",
   "language": "python",
   "name": "python3"
  },
  "language_info": {
   "codemirror_mode": {
    "name": "ipython",
    "version": 3
   },
   "file_extension": ".py",
   "mimetype": "text/x-python",
   "name": "python",
   "nbconvert_exporter": "python",
   "pygments_lexer": "ipython3",
   "version": "3.11.7"
  }
 },
 "nbformat": 4,
 "nbformat_minor": 5
}
