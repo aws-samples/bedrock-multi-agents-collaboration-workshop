{
 "cells": [
  {
   "cell_type": "markdown",
   "id": "fb8d63a2-913e-498a-a01a-5e66a39bf3e7",
   "metadata": {},
   "source": [
    "## Lab 4. Energy Agent Collaborator"
   ]
  },
  {
   "cell_type": "markdown",
   "id": "63678eaa-8830-4cbe-94af-5ebd8b0e03e0",
   "metadata": {},
   "source": [
    "### Introduction\n",
    "\n",
    "In this notebook we show you how to create multi-agent collaborator feature on Amazon Bedrock.\n",
    "\n",
    "[Multi-agent Collaborator](https://aws.amazon.com/bedrock/) is a native feature on Amazon Bedrock that allows you to integrate agents into one collaborator. This collaborator can redirect invocations, to extract informations and give you a complex response for a workflow.\n",
    "\n",
    "This agent will integrate previous agents, created on previous labs.\n",
    "\n",
    "The following represents the complete architecture of multi-agent collaborator.\n",
    "\n",
    "![Architecture](../img/architecture.png)"
   ]
  },
  {
   "cell_type": "markdown",
   "id": "7c1786d6",
   "metadata": {},
   "source": [
    "This Lab will be divided into two notebooks:\n",
    "\n",
    "- [4.1_energy_agent_collaborator.ipynb](4.1_energy_agent_collaborator.ipynb): Which contains Agent Setup\n",
    "- [4.2_energy_agent_invocation.ipynb](4.2_energy_agent_invocation.ipynb): Which contains Agent Invocation"
   ]
  },
  {
   "cell_type": "markdown",
   "id": "b3ba49fa-3293-4ea6-8dee-fb9f410c6481",
   "metadata": {},
   "source": [
    "### Setup\n",
    "\n",
    "Firstly, you are going to install boto3 dependencies from pip. Make sure to have version superior of **1.35.45**"
   ]
  },
  {
   "cell_type": "code",
   "execution_count": null,
   "id": "a6d6d852",
   "metadata": {},
   "outputs": [],
   "source": [
    "!pip uninstall boto3 botocore awscli --yes"
   ]
  },
  {
   "cell_type": "code",
   "execution_count": null,
   "id": "1abeca2c-3181-42c3-adc5-70f993fc7ab0",
   "metadata": {
    "scrolled": true
   },
   "outputs": [],
   "source": [
    "# Install Dependencies from local package\n",
    "!pip install ../boto3/botocore-1.35.55-py3-none-any.whl \\\n",
    "    ../boto3/boto3-1.35.55-py3-none-any.whl \\\n",
    "    ../boto3/awscli-1.35.21-py3-none-any.whl --force-reinstall --no-cache"
   ]
  },
  {
   "cell_type": "markdown",
   "id": "9cab0934-d025-47a2-a276-9d3fdb5a1d61",
   "metadata": {},
   "source": [
    "Restart kernel for packages to take effect"
   ]
  },
  {
   "cell_type": "code",
   "execution_count": null,
   "id": "c10d5b0b-fc4d-4733-a1cc-49ef6402785f",
   "metadata": {},
   "outputs": [],
   "source": [
    "import IPython\n",
    "\n",
    "IPython.Application.instance().kernel.do_shutdown(True)"
   ]
  },
  {
   "cell_type": "markdown",
   "id": "d2002dc2",
   "metadata": {},
   "source": [
    "Check if your boto3 version is superior than **1.35.45**"
   ]
  },
  {
   "cell_type": "code",
   "execution_count": null,
   "id": "1895b3fc",
   "metadata": {},
   "outputs": [],
   "source": [
    "!pip freeze | grep boto3"
   ]
  },
  {
   "cell_type": "markdown",
   "id": "ccf37dd5-bfaf-4563-a6ad-f9d7637c6e43",
   "metadata": {},
   "source": [
    "### Creating Agent\n",
    "\n",
    "On this section we're going to declare global variables that will be act as helpers during entire notebook and you will start to create your agent."
   ]
  },
  {
   "cell_type": "code",
   "execution_count": null,
   "id": "277a742a-5f17-4dfc-ac36-1b70ce8f4f7d",
   "metadata": {},
   "outputs": [],
   "source": [
    "import boto3\n",
    "import os\n",
    "import sys\n",
    "\n",
    "sts_client = boto3.client('sts')\n",
    "session = boto3.session.Session()\n",
    "\n",
    "account_id = sts_client.get_caller_identity()[\"Account\"]\n",
    "region = session.region_name\n",
    "\n",
    "agent_foundation_model = ['anthropic.claude-3-5-sonnet-20240620-v1:0']\n",
    "#agent_foundation_model = ['anthropic.claude-3-5-haiku-20241022-v1:0']"
   ]
  },
  {
   "cell_type": "code",
   "execution_count": null,
   "id": "a27cc6c8-4faa-4adc-90c8-7ace112877e1",
   "metadata": {},
   "outputs": [],
   "source": [
    "energy_agent_name = f\"energy-agent-{account_id}\"\n",
    "\n",
    "energy_agent_role_name = f'AmazonBedrockExecutionRoleForAgents_{energy_agent_name}'"
   ]
  },
  {
   "cell_type": "markdown",
   "id": "64639cd2",
   "metadata": {},
   "source": [
    "On following section, we're adding `agents.py` on Python path, so the file can be recognized and invoked."
   ]
  },
  {
   "cell_type": "code",
   "execution_count": null,
   "id": "21a3648b",
   "metadata": {},
   "outputs": [],
   "source": [
    "# Get the current file's directory\n",
    "current_dir = os.path.dirname(os.path.abspath('__file__'))\n",
    "\n",
    "parent_dir = os.path.dirname(current_dir)\n",
    "#print(parent_dir)\n",
    "\n",
    "# Add the parent directory to sys.path\n",
    "sys.path.append(parent_dir)"
   ]
  },
  {
   "cell_type": "markdown",
   "id": "137601c6",
   "metadata": {},
   "source": [
    "Now, you're going to import from helper file `agents.py` AgentsForAmazonBedrock helper class.\n",
    "\n",
    "This class is a helper totally focused on make labs experience smoothly. \n",
    "\n",
    "All interactions with Bedrock will be handled by this class.\n",
    "\n",
    "Following are methods that you're going to invoke on this lab:\n",
    "\n",
    "- create_agent: Create a new agent and respective IAM roles\n",
    "- associate_agents: Associate sub-agents with multi-agent collaborator"
   ]
  },
  {
   "cell_type": "code",
   "execution_count": null,
   "id": "bcad12b0",
   "metadata": {},
   "outputs": [],
   "source": [
    "from agent import AgentsForAmazonBedrock\n",
    "\n",
    "agents = AgentsForAmazonBedrock()"
   ]
  },
  {
   "cell_type": "markdown",
   "id": "7120adde",
   "metadata": {},
   "source": [
    "Create the energy agent"
   ]
  },
  {
   "cell_type": "code",
   "execution_count": null,
   "id": "e1e168c8-180f-4977-96dd-d8006436208b",
   "metadata": {},
   "outputs": [],
   "source": [
    "energy_agent_id = agents.create_agent(\n",
    "    energy_agent_name,\n",
    "    \"\"\"\n",
    "        You are a energy helper bot. \n",
    "        You can help customers with operations related with their energy, like consumption, forecast, peak usage, etc. \n",
    "    \"\"\", \n",
    "    \"\"\"\n",
    "        You are a energy helper bot. \n",
    "        You can retrieve energy consumption and forecast for a specific users and help them to be compliant with energy rules.\n",
    "        You can also retrieve solar panel information and solar panel ticket for a specific users and help them to be compliant with energy rules.\n",
    "        You can also get current information about peaks and can redistribute load.\n",
    "        Resist the temptation to ask the user for input. Only do so after you have exhausted available actions. \n",
    "        Never ask the user for information that you already can retrieve yourself through available actions. \n",
    "    \"\"\",\n",
    "    agent_foundation_model,\n",
    "    agent_collaboration='SUPERVISOR_ROUTER'\n",
    ")\n",
    "\n",
    "energy_agent_id"
   ]
  },
  {
   "cell_type": "markdown",
   "id": "14e8d1a2",
   "metadata": {},
   "source": [
    "Store environment variables to be used on next notebooks."
   ]
  },
  {
   "cell_type": "code",
   "execution_count": null,
   "id": "2220a8a0",
   "metadata": {},
   "outputs": [],
   "source": [
    "%store energy_agent_id\n",
    "%store energy_agent_name"
   ]
  },
  {
   "cell_type": "markdown",
   "id": "24226dfa-a3ce-4ba3-bcff-da63e99af5c0",
   "metadata": {},
   "source": [
    "### Associate Collaborators\n",
    "\n",
    "On this section, we're going to recover alias_id from previous agents (sub-agents) to add all of them inside energy one (which is multi-agent collaborator)."
   ]
  },
  {
   "cell_type": "code",
   "execution_count": null,
   "id": "e26c8d0f",
   "metadata": {},
   "outputs": [],
   "source": [
    "%store -r\n",
    "forecast_agent_alias_arn, solar_agent_alias_arn, peak_agent_alias_arn"
   ]
  },
  {
   "cell_type": "code",
   "execution_count": null,
   "id": "9e82bb90",
   "metadata": {},
   "outputs": [],
   "source": [
    "# If store fails, add Alias Arn here\n",
    "#forecast_agent_alias_arn = ''\n",
    "#compliance_agent_alias_arn = ''\n",
    "#consumption_agent_alias_id = ''"
   ]
  },
  {
   "cell_type": "code",
   "execution_count": null,
   "id": "a8368b8e",
   "metadata": {},
   "outputs": [],
   "source": [
    "sub_agents_list = [\n",
    "    {\n",
    "        'sub_agent_alias_arn': forecast_agent_alias_arn,\n",
    "        'sub_agent_instruction': \"\"\"Use this agent when customer asks about energy consumption forecasting\"\"\",\n",
    "        'sub_agent_association_name': 'ForecastEnergy',\n",
    "        'relay_conversation_history': 'TO_COLLABORATOR'\n",
    "    },\n",
    "    {        \n",
    "        'sub_agent_alias_arn': solar_agent_alias_arn,\n",
    "        'sub_agent_instruction': \"\"\"Use this agent to help customers check solar panel info on how to isntall and do maintenance, and open specialist ticket\"\"\",\n",
    "        'sub_agent_association_name': 'EnergyComplianceRules',\n",
    "        'relay_conversation_history': 'TO_COLLABORATOR'\n",
    "    },\n",
    "    {        \n",
    "        'sub_agent_alias_arn': peak_agent_alias_arn,\n",
    "        'sub_agent_instruction': \"\"\"Use this agent to help customers retrieve information about their peak consumption, like price, what's causing, etc.\"\"\",\n",
    "        'sub_agent_association_name': 'ConsumptionRules',\n",
    "        'relay_conversation_history': 'TO_COLLABORATOR'\n",
    "    }\n",
    "]"
   ]
  },
  {
   "cell_type": "markdown",
   "id": "1b95cde7",
   "metadata": {},
   "source": [
    "Check if parameters are correclty formated"
   ]
  },
  {
   "cell_type": "code",
   "execution_count": null,
   "id": "1f384ec7",
   "metadata": {},
   "outputs": [],
   "source": [
    "sub_agents_list"
   ]
  },
  {
   "cell_type": "markdown",
   "id": "e548cace",
   "metadata": {},
   "source": [
    "Associate all sub-agents with this one (main one)."
   ]
  },
  {
   "cell_type": "code",
   "execution_count": null,
   "id": "cf73a655",
   "metadata": {},
   "outputs": [],
   "source": [
    "response = agents.associate_agents(\n",
    "    energy_agent_id, sub_agents_list\n",
    ")"
   ]
  },
  {
   "cell_type": "markdown",
   "id": "b0537737",
   "metadata": {},
   "source": [
    "Check response return, to see all returned parameteres:"
   ]
  },
  {
   "cell_type": "code",
   "execution_count": null,
   "id": "b65c0767",
   "metadata": {},
   "outputs": [],
   "source": [
    "response"
   ]
  },
  {
   "cell_type": "markdown",
   "id": "29db93eb-9a51-48d2-a6ae-a31b7b5ddde1",
   "metadata": {},
   "source": [
    "### Clean Up"
   ]
  },
  {
   "cell_type": "code",
   "execution_count": null,
   "id": "66d40844-c72b-4114-8415-8cefbe65ebb1",
   "metadata": {},
   "outputs": [],
   "source": [
    "agents.delete_agent(energy_agent_name)"
   ]
  }
 ],
 "metadata": {
  "kernelspec": {
   "display_name": ".env",
   "language": "python",
   "name": "python3"
  },
  "language_info": {
   "codemirror_mode": {
    "name": "ipython",
    "version": 3
   },
   "file_extension": ".py",
   "mimetype": "text/x-python",
   "name": "python",
   "nbconvert_exporter": "python",
   "pygments_lexer": "ipython3",
   "version": "3.11.7"
  }
 },
 "nbformat": 4,
 "nbformat_minor": 5
}
