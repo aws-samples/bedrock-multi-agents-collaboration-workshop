{
 "cells": [
  {
   "cell_type": "markdown",
   "id": "fb8d63a2-913e-498a-a01a-5e66a39bf3e7",
   "metadata": {},
   "source": [
    "## Lab 2. Solar Panel Instructions"
   ]
  },
  {
   "cell_type": "markdown",
   "id": "63678eaa-8830-4cbe-94af-5ebd8b0e03e0",
   "metadata": {},
   "source": [
    "### Introduction\n",
    "\n",
    "In this notebook we show you how to create your second agent on Amazon Bedrock.\n",
    "\n",
    "This agent will be an agent with instructions to install and to do maintenance on Solar Panels, where customers can ask the agent to return these information from a Amazon Bedrock Knowledge Base.\n",
    "\n",
    "To equip foundation models (FMs) with up-to-date and proprietary information, organizations use Retrieval Augmented Generation (RAG), a technique that fetches data from company data sources and enriches the prompt to provide more relevant and accurate responses. \n",
    "[Amazon Bedrock Knowledge Bases](https://aws.amazon.com/bedrock/knowledge-bases/) is a fully managed capability that helps you implement the entire RAG workflow from ingestion to retrieval and prompt augmentation without having to build custom integrations to data sources and manage data flows.\n",
    "\n",
    "\n",
    "If question is not present on Amazon Bedrock Knowledge Bases, customers can ask agent to create a support ticket, to get a human in the loop to help with their questions.\n",
    "\n",
    "The following represents the piece of architecture that will be built on this module.\n",
    "\n",
    "![Architecture](../img/lab2-architecture.png)"
   ]
  },
  {
   "cell_type": "markdown",
   "id": "b3ba49fa-3293-4ea6-8dee-fb9f410c6481",
   "metadata": {},
   "source": [
    "### Setup\n",
    "\n",
    "Firstly, you are going to install boto3 dependencies from pip. Make sure to have version superior of **1.35.45**"
   ]
  },
  {
   "cell_type": "code",
   "execution_count": null,
   "id": "1abeca2c-3181-42c3-adc5-70f993fc7ab0",
   "metadata": {
    "scrolled": true
   },
   "outputs": [],
   "source": [
    "# Install Dependencies from local package\n",
    "!pip install ../boto3/botocore-1.35.55-py3-none-any.whl \\\n",
    "    ../boto3/boto3-1.35.55-py3-none-any.whl \\\n",
    "    ../boto3/awscli-1.35.21-py3-none-any.whl --force-reinstall --no-cache"
   ]
  },
  {
   "cell_type": "markdown",
   "id": "6abdea69",
   "metadata": {},
   "source": [
    "One component of a Knowledge Base is a Vector Database. Vector database is a kind of database that is optimized to store and search with vectors, making RAG architectures possible and faster. \n",
    "\n",
    "Amazon Bedrock Knowledge Bases is powered by one vector database. \n",
    "\n",
    "For this labwe are going to create one collection forAmazon OpenSearch Serverless. If you want to know more, [this link](https://docs.aws.amazon.com/bedrock/latest/userguide/knowledge-base-setup.html) contains other supported vector engines for Amazon Bedrock Knowledge Bases.\n",
    "\n",
    "Now, let's install opensearch-py to interact with Opensearch engine."
   ]
  },
  {
   "cell_type": "code",
   "execution_count": null,
   "id": "e7214191",
   "metadata": {},
   "outputs": [],
   "source": [
    "!pip install opensearch-py retrying --force-reinstall --no-cache"
   ]
  },
  {
   "cell_type": "markdown",
   "id": "9cab0934-d025-47a2-a276-9d3fdb5a1d61",
   "metadata": {},
   "source": [
    "Restart kernel for packages to take effect"
   ]
  },
  {
   "cell_type": "code",
   "execution_count": null,
   "id": "c10d5b0b-fc4d-4733-a1cc-49ef6402785f",
   "metadata": {},
   "outputs": [],
   "source": [
    "import IPython\n",
    "\n",
    "IPython.Application.instance().kernel.do_shutdown(True)"
   ]
  },
  {
   "cell_type": "markdown",
   "id": "7b76edd4",
   "metadata": {},
   "source": [
    "Check if your boto3 version is superior than **1.35.45**"
   ]
  },
  {
   "cell_type": "code",
   "execution_count": null,
   "id": "20b72889",
   "metadata": {},
   "outputs": [],
   "source": [
    "!pip freeze | grep boto3"
   ]
  },
  {
   "cell_type": "markdown",
   "id": "ccf37dd5-bfaf-4563-a6ad-f9d7637c6e43",
   "metadata": {},
   "source": [
    "### Creating Agent\n",
    "\n",
    "On this section we're going to declare global variables that will be act as helpers during entire notebook and you will start to create your agent."
   ]
  },
  {
   "cell_type": "code",
   "execution_count": null,
   "id": "277a742a-5f17-4dfc-ac36-1b70ce8f4f7d",
   "metadata": {},
   "outputs": [],
   "source": [
    "import boto3\n",
    "import os\n",
    "import sys\n",
    "\n",
    "sts_client = boto3.client('sts')\n",
    "session = boto3.session.Session()\n",
    "\n",
    "account_id = sts_client.get_caller_identity()[\"Account\"]\n",
    "region = session.region_name\n",
    "s3_client = boto3.client('s3', region)\n",
    "bedrock_client = boto3.client('bedrock-runtime', region)\n",
    "\n",
    "agent_foundation_model = ['anthropic.claude-3-5-sonnet-20240620-v1:0']\n",
    "#agent_foundation_model = ['anthropic.claude-3-5-haiku-20241022-v1:0']"
   ]
  },
  {
   "cell_type": "code",
   "execution_count": null,
   "id": "a27cc6c8-4faa-4adc-90c8-7ace112877e1",
   "metadata": {},
   "outputs": [],
   "source": [
    "solar_agent_name = f\"solar-{account_id}\"\n",
    "\n",
    "solar_lambda_name = f\"fn-solar-{account_id}\"\n",
    "\n",
    "solar_agent_role_name = f'AmazonBedrockExecutionRoleForAgents_{solar_agent_name}'\n",
    "\n",
    "dynamodb_table = f\"{solar_agent_name}-table\"\n",
    "dynamodb_pk = \"customer_id\"\n",
    "dynamodb_sk = \"ticket_id\"\n",
    "\n",
    "dynamoDB_args = [dynamodb_table, dynamodb_pk, dynamodb_sk]\n",
    "\n",
    "knowledge_base_name = f'{solar_agent_name}-kb'\n",
    "suffix = f\"{region}-{account_id}\"\n",
    "\n",
    "knowledge_base_description = \"KB containing solar panel instructions for installation and maintenance\"\n",
    "bucket_name = f'{solar_agent_name}-{suffix}'"
   ]
  },
  {
   "cell_type": "markdown",
   "id": "8786517e",
   "metadata": {},
   "source": [
    "On following section, we're adding `agents.py`and `knowledge_bases.py` on Python path, so files can be recognized and invoked."
   ]
  },
  {
   "cell_type": "code",
   "execution_count": null,
   "id": "40be1acf",
   "metadata": {},
   "outputs": [],
   "source": [
    "# Get the current file's directory\n",
    "current_dir = os.path.dirname(os.path.abspath('__file__'))\n",
    "\n",
    "parent_dir = os.path.dirname(current_dir)\n",
    "\n",
    "# Add the parent directory to sys.path\n",
    "sys.path.append(parent_dir)"
   ]
  },
  {
   "cell_type": "markdown",
   "id": "5b41a37c",
   "metadata": {},
   "source": [
    "Now, you're going to import from helper files `agents.py` and `knowledge_bases.py`.\n",
    " \n",
    "Those files contain helper classes totally focused on make labs experience smoothly. \n",
    "\n",
    "All interactions with Bedrock will be handled by these classes.\n",
    "\n",
    "Following are methods that you're going to invoke on this lab:\n",
    "\n",
    "On `agents.py`:\n",
    "- create_agent: Create a new agent and respective IAM roles\n",
    "- add_action_group_with_lambda: Create a lambda function and add it as an action group for a previous created agent\n",
    "- create_agent_alias: Create an alias for this agent\n",
    "- invoke: Execute agent\n",
    "\n",
    "On `knowledge_bases.py`:\n",
    "- create_or_retrieve_knowledge_base: Create Knowledge Base on Amazon Bedrock if it doesn't exist or get info about previous created.\n",
    "- synchronize_data: Read files on S3, convert text info into vectors and add that information on Vector Database."
   ]
  },
  {
   "cell_type": "code",
   "execution_count": null,
   "id": "de912e83-e8c1-4bd7-adb7-9ad232e13b56",
   "metadata": {},
   "outputs": [],
   "source": [
    "from agent import AgentsForAmazonBedrock\n",
    "from knowledge_bases import KnowledgeBasesForAmazonBedrock\n",
    "\n",
    "agents = AgentsForAmazonBedrock()\n",
    "kb = KnowledgeBasesForAmazonBedrock()"
   ]
  },
  {
   "cell_type": "markdown",
   "id": "f455fe28",
   "metadata": {},
   "source": [
    "### Create and Load Knowledge Base\n",
    "\n",
    "On this section, you're going to create a Amazon Bedrock Knowledge Base and ingest data on it.\n",
    "\n",
    "**This creation process takes around 5min.**"
   ]
  },
  {
   "cell_type": "code",
   "execution_count": null,
   "id": "040e3a76",
   "metadata": {},
   "outputs": [],
   "source": [
    "kb_id, ds_id = kb.create_or_retrieve_knowledge_base(\n",
    "    knowledge_base_name,\n",
    "    knowledge_base_description,\n",
    "    bucket_name\n",
    ")\n",
    "\n",
    "print(f\"Knowledge Base ID: {kb_id}\")\n",
    "print(f\"Data Source ID: {ds_id}\")"
   ]
  },
  {
   "cell_type": "markdown",
   "id": "a6f04f9e",
   "metadata": {},
   "source": [
    "#### Create Synthetic Data to Load on S3\n",
    "\n",
    "Instead of get data elsewhere, you're going to generate data, using a LLM on Amazon Bedrock.\n",
    "This fake data that will be generated, will be uploaded into a S3 bucket and then added into an Amazon Bedrock Knowledge Base."
   ]
  },
  {
   "cell_type": "code",
   "execution_count": null,
   "id": "f9c9b44c",
   "metadata": {},
   "outputs": [],
   "source": [
    "path = \"kb_documents\"\n",
    "# Check whether the specified path exists or not\n",
    "isExist = os.path.exists(path)\n",
    "if not isExist:\n",
    "   # Create a n ew directory if it does not exist\n",
    "   os.makedirs(path)\n",
    "   print(\"The {} directory was created!\".format(path))\n",
    "else:\n",
    "   print(\"The {} directory already exists!\".format(path))"
   ]
  },
  {
   "cell_type": "markdown",
   "id": "eb1d898b",
   "metadata": {},
   "source": [
    "Creating helper methods to invoke LLM on Bedrock and to write a local file using Python"
   ]
  },
  {
   "cell_type": "code",
   "execution_count": null,
   "id": "eb952b08",
   "metadata": {},
   "outputs": [],
   "source": [
    "def invoke_bedrock_generate_energy_files(prompt):\n",
    "    message_list = []\n",
    "\n",
    "    initial_message = {\n",
    "        \"role\": \"user\",\n",
    "        \"content\": [\n",
    "            { \"text\": prompt } \n",
    "        ],\n",
    "    }\n",
    "\n",
    "    message_list.append(initial_message)\n",
    "\n",
    "    response = bedrock_client.converse(\n",
    "        modelId=agent_foundation_model[0],\n",
    "        messages=message_list,\n",
    "        inferenceConfig={\n",
    "            \"maxTokens\": 500,\n",
    "            \"temperature\": 0\n",
    "        },\n",
    "    )\n",
    "\n",
    "    return response['output']['message']\n",
    "\n",
    "def write_file(file_name, content):\n",
    "    f = open(file_name, 'w')\n",
    "    f.write(content)\n",
    "    f.close"
   ]
  },
  {
   "cell_type": "markdown",
   "id": "c3cd11d3",
   "metadata": {},
   "source": [
    "Generating one file with instructions on how to install a solar panel."
   ]
  },
  {
   "cell_type": "code",
   "execution_count": null,
   "id": "89384886",
   "metadata": {},
   "outputs": [],
   "source": [
    "text_generation_energy_instructions = '''\n",
    "    You will be act as an expert on clean energy.\n",
    "    You will generate a step-by-step on how to install a solar panel at home.\n",
    "    Just answer in a numbered list.\n",
    "'''\n",
    "\n",
    "solar_energy_file_name = 'solar-panel-instructions.txt'\n",
    "\n",
    "response_message = invoke_bedrock_generate_energy_files(text_generation_energy_instructions)\n",
    "\n",
    "write_file('{}/{}'.format(path, solar_energy_file_name),response_message['content'][0]['text'])"
   ]
  },
  {
   "cell_type": "markdown",
   "id": "3ca5728c",
   "metadata": {},
   "source": [
    "Generating another file with instructions on how to do maintenance on a solar panel."
   ]
  },
  {
   "cell_type": "code",
   "execution_count": null,
   "id": "599cecaf",
   "metadata": {},
   "outputs": [],
   "source": [
    "text_generation_energy_instructions = '''\n",
    "    You will be act as an expert on clean energy.\n",
    "    You will generate a step-by-step instructions on how to do maintenance in a solar panel installed at a regular home.\n",
    "    Just answer in a numbered list.\n",
    "'''\n",
    "\n",
    "solar_energy_file_name = 'solar-panel-maintenance.txt'\n",
    "\n",
    "response_message = invoke_bedrock_generate_energy_files(text_generation_energy_instructions)\n",
    "\n",
    "write_file('{}/{}'.format(path, solar_energy_file_name),response_message['content'][0]['text'])\n"
   ]
  },
  {
   "cell_type": "markdown",
   "id": "d34e2b5a",
   "metadata": {},
   "source": [
    "Uploading generated files into S3 Bucket."
   ]
  },
  {
   "cell_type": "code",
   "execution_count": null,
   "id": "9796eaa4",
   "metadata": {},
   "outputs": [],
   "source": [
    "def upload_directory(path, bucket_name):\n",
    "        for root,dirs,files in os.walk(path):\n",
    "            for file in files:\n",
    "                file_to_upload = os.path.join(root,file)\n",
    "                print(f\"uploading file {file_to_upload} to {bucket_name}\")\n",
    "                s3_client.upload_file(file_to_upload,bucket_name,file)"
   ]
  },
  {
   "cell_type": "code",
   "execution_count": null,
   "id": "e9cb3260",
   "metadata": {},
   "outputs": [],
   "source": [
    "upload_directory(\"kb_documents\", bucket_name)\n",
    "\n",
    "# sync knowledge base\n",
    "kb.synchronize_data(kb_id, ds_id)"
   ]
  },
  {
   "cell_type": "markdown",
   "id": "c7593e31",
   "metadata": {},
   "source": [
    "#### Creating Agent\n",
    "\n",
    "Create the Solar Panel agent that will have a Knowledge Base and also a Lambda action group to handle exception workflow (when information is not found on KB)."
   ]
  },
  {
   "cell_type": "code",
   "execution_count": null,
   "id": "864e39d7",
   "metadata": {},
   "outputs": [],
   "source": [
    "kb_info = kb.get_kb(kb_id)\n",
    "kb_arn = kb_info['knowledgeBase']['knowledgeBaseArn']"
   ]
  },
  {
   "cell_type": "code",
   "execution_count": null,
   "id": "9e265f56",
   "metadata": {},
   "outputs": [],
   "source": [
    "kb_config = {\n",
    "    'kb_id': kb_id,\n",
    "    'kb_instruction': 'Access the knowledge base when customers ask about energy compliance rules and regulations'\n",
    "}"
   ]
  },
  {
   "cell_type": "code",
   "execution_count": null,
   "id": "e1e168c8-180f-4977-96dd-d8006436208b",
   "metadata": {},
   "outputs": [],
   "source": [
    "solar_agent_id = agents.create_agent(\n",
    "    solar_agent_name, \n",
    "    \"\"\"\n",
    "        You are a solar energy helper bot. \n",
    "        You can retrieve information on how to install and do maintenance on solar panels\n",
    "    \"\"\", \n",
    "    \"\"\"\n",
    "        You are a solar energy helper bot. \n",
    "        You can retrieve information on how to install and do maintenance on solar panels.\n",
    "        If you do not have enough information, user can ask you to open a ticket to get specialist support. \n",
    "        If asked about specialized support, just open a case and only reply with case ID.\n",
    "        Resist the temptation to ask the user for input. Only do so after you have exhausted available actions. \n",
    "        Never ask the user for information that you already can retrieve yourself through available actions. \n",
    "\n",
    "    \"\"\",\n",
    "    agent_foundation_model,\n",
    "    kb_arns=[kb_arn]\n",
    ")\n",
    "\n",
    "solar_agent_id"
   ]
  },
  {
   "cell_type": "code",
   "execution_count": null,
   "id": "d2cfc71d-4b0e-4b00-9159-cc3efd2becbc",
   "metadata": {},
   "outputs": [],
   "source": [
    "agents.associate_kb_with_agent(solar_agent_id, kb_config['kb_instruction'], kb_config['kb_id'])"
   ]
  },
  {
   "cell_type": "markdown",
   "id": "f595c535",
   "metadata": {},
   "source": [
    "### Creating and Associating Lambda\n",
    "\n",
    "On this block, we're going to generate Lambda function code and associate it with created agent for exception cases when KB information is not enough and customer need to open a ticket for extra instructions related with their solar panel."
   ]
  },
  {
   "cell_type": "code",
   "execution_count": null,
   "id": "7086a3ba",
   "metadata": {},
   "outputs": [],
   "source": [
    "%%writefile solar_energy.py\n",
    "import os\n",
    "import json\n",
    "import uuid\n",
    "import boto3\n",
    "\n",
    "from boto3.dynamodb.conditions import Key, Attr\n",
    "\n",
    "dynamodb_resource = boto3.resource('dynamodb')\n",
    "dynamodb_table = os.getenv('dynamodb_table')\n",
    "dynamodb_pk = os.getenv('dynamodb_pk')\n",
    "dynamodb_sk = os.getenv('dynamodb_sk')\n",
    "\n",
    "def get_named_parameter(event, name):\n",
    "    try:\n",
    "        return next(item for item in event['parameters'] if item['name'] == name)['value']\n",
    "    except:\n",
    "        return None\n",
    "    \n",
    "def populate_function_response(event, response_body):\n",
    "    return {'response': {'actionGroup': event['actionGroup'], 'function': event['function'],\n",
    "                'functionResponse': {'responseBody': {'TEXT': {'body': str(response_body)}}}}}\n",
    "\n",
    "def put_dynamodb(table_name, item):\n",
    "    table = dynamodb_resource.Table(table_name)\n",
    "    resp = table.put_item(Item=item)\n",
    "    return resp\n",
    "\n",
    "def read_dynamodb(table_name: str, \n",
    "                   pk_field: str,\n",
    "                   pk_value: str,\n",
    "                   sk_field: str=None, \n",
    "                   sk_value: str=None):\n",
    "    try:\n",
    "        table = dynamodb_resource.Table(table_name)\n",
    "        # Create expression\n",
    "        if sk_value:\n",
    "            key_expression = Key(pk_field).eq(pk_value) & Key(sk_field).begins_with(sk_value)\n",
    "        else:\n",
    "            key_expression = Key(pk_field).eq(pk_value)\n",
    "\n",
    "        query_data = table.query(\n",
    "            KeyConditionExpression=key_expression\n",
    "        )\n",
    "        \n",
    "        return query_data['Items']\n",
    "    except Exception:\n",
    "        print(f'Error querying table: {table_name}.')\n",
    "\n",
    "def open_ticket(customer_id, msg):\n",
    "    ticket_id = str(uuid.uuid1())\n",
    "    item = {\n",
    "        'ticket_id': ticket_id,\n",
    "        'customer_id': customer_id,\n",
    "        'description': msg,\n",
    "        'status': 'created'\n",
    "    }\n",
    "    resp = put_dynamodb(dynamodb_table, item)\n",
    "    print(resp)\n",
    "    return \"Thanks for contact customer {}! Your support case was generated with ID: {}\".format(\n",
    "        customer_id, ticket_id\n",
    "    )\n",
    "\n",
    "def get_ticket_status(customer_id,\n",
    "                      ticket_id: str=None):\n",
    "    return read_dynamodb(dynamodb_table, \n",
    "                         dynamodb_pk,\n",
    "                         customer_id,\n",
    "                         dynamodb_sk,\n",
    "                         ticket_id)\n",
    "\n",
    "def lambda_handler(event, context):\n",
    "    print(event)\n",
    "    \n",
    "    # name of the function that should be invoked\n",
    "    function = event.get('function', '')\n",
    "\n",
    "    # parameters to invoke function with\n",
    "    parameters = event.get('parameters', [])\n",
    "    customer_id = get_named_parameter(event, \"customer_id\")\n",
    "\n",
    "    if function == 'open_ticket':\n",
    "        msg = get_named_parameter(event, \"msg\")\n",
    "        result = open_ticket(customer_id, msg)\n",
    "    elif function == 'get_ticket_status':\n",
    "        ticket_id = get_named_parameter(event, \"ticket_id\")\n",
    "        result = get_ticket_status(customer_id, ticket_id)\n",
    "    else:\n",
    "        result = f\"Error, function '{function}' not recognized\"\n",
    "\n",
    "    response = populate_function_response(event, result)\n",
    "    print(response)\n",
    "    return response"
   ]
  },
  {
   "cell_type": "markdown",
   "id": "4e111cd0",
   "metadata": {},
   "source": [
    "Now it's time to add this Lambda function as an action group for this agent and prepare it."
   ]
  },
  {
   "cell_type": "code",
   "execution_count": null,
   "id": "61fd71c6",
   "metadata": {},
   "outputs": [],
   "source": [
    "functions_def =[\n",
    "    {\n",
    "        \"name\": \"open_ticket\",\n",
    "        \"description\": \"\"\"Create a ticket to get help with information related \n",
    "                            with solar panel or clean energy\"\"\",\n",
    "        \"parameters\": {\n",
    "                        \"customer_id\": {\n",
    "                            \"description\": \"The ID of the customer\",\n",
    "                            \"required\": True,\n",
    "                            \"type\": \"string\"\n",
    "                        },\n",
    "                        \"msg\": {\n",
    "                            \"description\": \"The reason why customer is opening a ticket\",\n",
    "                            \"required\": True,\n",
    "                            \"type\": \"string\"\n",
    "                        }\n",
    "                    }\n",
    "    },\n",
    "    {\n",
    "        \"name\": \"get_ticket_status\",\n",
    "        \"description\": \"\"\"get ticket status/information\"\"\",\n",
    "        \"parameters\": {\n",
    "                        \"customer_id\": {\n",
    "                            \"description\": \"The ID of the customer\",\n",
    "                            \"required\": True,\n",
    "                            \"type\": \"string\"\n",
    "                        },\n",
    "                        \"ticket_id\": {\n",
    "                            \"description\": \"The ID of the ticket\",\n",
    "                            \"required\": False,\n",
    "                            \"type\": \"string\"\n",
    "                        }\n",
    "                    }\n",
    "    }\n",
    "]"
   ]
  },
  {
   "cell_type": "code",
   "execution_count": null,
   "id": "f38fb3fd",
   "metadata": {},
   "outputs": [],
   "source": [
    "resp = agents.add_action_group_with_lambda(\n",
    "            agent_name=solar_agent_name, \n",
    "            lambda_function_name=solar_lambda_name, \n",
    "            source_code_file=\"solar_energy.py\", \n",
    "            agent_functions=functions_def, \n",
    "            agent_action_group_name=\"solar_energy_actions\", \n",
    "            agent_action_group_description=\"Function to open an energy ticket for a user or get status from an opened ticket\",\n",
    "            dynamo_args=dynamoDB_args\n",
    ")"
   ]
  },
  {
   "cell_type": "markdown",
   "id": "3d6a8d36-cb73-4e95-b345-dbaf4631f42e",
   "metadata": {},
   "source": [
    "### Create alias\n",
    "\n",
    "Create an alias that will be used further on multi-agent collaborator feature:"
   ]
  },
  {
   "cell_type": "code",
   "execution_count": null,
   "id": "d94236d9",
   "metadata": {},
   "outputs": [],
   "source": [
    "agents_boto3 = boto3.client('bedrock-agent',\n",
    "                            region_name=region)\n",
    "\n",
    "solar_agent_alias_resp = agents_boto3.create_agent_alias(agentId=solar_agent_id, \n",
    "                                                           agentAliasName='v1')"
   ]
  },
  {
   "cell_type": "code",
   "execution_count": null,
   "id": "da84a8d1-94d6-4955-8c39-1c5d79e68c63",
   "metadata": {},
   "outputs": [],
   "source": [
    "# create alias\n",
    "#compliance_agent_alias_arn = agents.create_agent_alias(compliance_agent_id, \n",
    "#                                                       compliance_agent_alias_name)"
   ]
  },
  {
   "cell_type": "markdown",
   "id": "24226dfa-a3ce-4ba3-bcff-da63e99af5c0",
   "metadata": {},
   "source": [
    "### Invoking Agent\n",
    "\n",
    "Now, let's run some tests on agent to make sure it's working:"
   ]
  },
  {
   "cell_type": "code",
   "execution_count": null,
   "id": "18d8404d",
   "metadata": {},
   "outputs": [],
   "source": [
    "%%time\n",
    "print(agents.invoke(\"how can I check if my solar panel eltrical consumption is compliant with energy rules?\", \n",
    "                    solar_agent_id)\n",
    ")"
   ]
  },
  {
   "cell_type": "code",
   "execution_count": null,
   "id": "34693363",
   "metadata": {},
   "outputs": [],
   "source": [
    "%%time\n",
    "print(agents.invoke(\"Can I get support to install my solar panel? My customer id is 1\", \n",
    "                    solar_agent_id)\n",
    ")"
   ]
  },
  {
   "cell_type": "markdown",
   "id": "3f00b20b",
   "metadata": {},
   "source": [
    "Get ticket id from previous invocation and add on following variable"
   ]
  },
  {
   "cell_type": "code",
   "execution_count": null,
   "id": "3967dc08",
   "metadata": {},
   "outputs": [],
   "source": [
    "created_ticket = \"\""
   ]
  },
  {
   "cell_type": "code",
   "execution_count": null,
   "id": "fa26f3ee",
   "metadata": {},
   "outputs": [],
   "source": [
    "%%time\n",
    "print(agents.invoke(\"Can I get details on my ticket? My customer id is 1 and my ticket id is {}\".format(created_ticket), \n",
    "                    solar_agent_id)\n",
    ")"
   ]
  },
  {
   "cell_type": "code",
   "execution_count": null,
   "id": "94a27d8f",
   "metadata": {},
   "outputs": [],
   "source": [
    "%%time\n",
    "print(agents.invoke(\"Can I get support to review my solar panel consumption? My customer id is 1\", \n",
    "                    solar_agent_id)\n",
    ")"
   ]
  },
  {
   "cell_type": "code",
   "execution_count": null,
   "id": "f9964bec",
   "metadata": {},
   "outputs": [],
   "source": [
    "%%time\n",
    "print(agents.invoke(\"Can I get details on my ticket? My customer id is 1\", \n",
    "                    solar_agent_id)\n",
    ")"
   ]
  },
  {
   "cell_type": "markdown",
   "id": "7cc715b7",
   "metadata": {},
   "source": [
    "Store environment variables to be used on next notebooks."
   ]
  },
  {
   "cell_type": "code",
   "execution_count": null,
   "id": "29db93eb-9a51-48d2-a6ae-a31b7b5ddde1",
   "metadata": {},
   "outputs": [],
   "source": [
    "solar_agent_arn = agents.get_agent_arn_by_name(solar_agent_name)\n",
    "solar_agent_alias_arn = solar_agent_alias_resp['agentAlias']['agentAliasArn']\n",
    "solar_agent_alias_id = solar_agent_alias_resp['agentAlias']['agentAliasId']\n",
    "\n",
    "%store solar_agent_arn\n",
    "%store solar_agent_alias_arn\n",
    "%store solar_agent_alias_id\n",
    "%store solar_lambda_name\n",
    "%store solar_agent_name\n",
    "%store solar_agent_id\n",
    "%store knowledge_base_name"
   ]
  },
  {
   "cell_type": "code",
   "execution_count": null,
   "id": "c29254c4",
   "metadata": {},
   "outputs": [],
   "source": [
    "solar_agent_arn, solar_agent_alias_arn, solar_agent_alias_id"
   ]
  },
  {
   "cell_type": "markdown",
   "id": "baacaa09",
   "metadata": {},
   "source": [
    "### Clean Up"
   ]
  },
  {
   "cell_type": "code",
   "execution_count": null,
   "id": "6010fc28",
   "metadata": {},
   "outputs": [],
   "source": [
    "agents.delete_lambda(solar_lambda_name, dynamoDB_table=dynamodb_table)"
   ]
  },
  {
   "cell_type": "code",
   "execution_count": null,
   "id": "d0046664",
   "metadata": {},
   "outputs": [],
   "source": [
    "agents.delete_agent_alias(solar_agent_alias_id, solar_agent_id)"
   ]
  },
  {
   "cell_type": "code",
   "execution_count": null,
   "id": "74cbe234",
   "metadata": {},
   "outputs": [],
   "source": [
    "agents.delete_agent(solar_agent_name)"
   ]
  },
  {
   "cell_type": "code",
   "execution_count": null,
   "id": "a51ebc93",
   "metadata": {},
   "outputs": [],
   "source": [
    "kb.delete_kb(knowledge_base_name)"
   ]
  }
 ],
 "metadata": {
  "kernelspec": {
   "display_name": ".env",
   "language": "python",
   "name": "python3"
  },
  "language_info": {
   "codemirror_mode": {
    "name": "ipython",
    "version": 3
   },
   "file_extension": ".py",
   "mimetype": "text/x-python",
   "name": "python",
   "nbconvert_exporter": "python",
   "pygments_lexer": "ipython3",
   "version": "3.11.7"
  }
 },
 "nbformat": 4,
 "nbformat_minor": 5
}
