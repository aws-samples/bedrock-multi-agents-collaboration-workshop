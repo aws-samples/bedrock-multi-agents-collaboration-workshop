{
 "cells": [
  {
   "cell_type": "markdown",
   "id": "fb8d63a2-913e-498a-a01a-5e66a39bf3e7",
   "metadata": {},
   "source": [
    "## Lab 3. Peak Load Manager"
   ]
  },
  {
   "cell_type": "markdown",
   "id": "63678eaa-8830-4cbe-94af-5ebd8b0e03e0",
   "metadata": {},
   "source": [
    "### Introduction\n",
    "\n",
    "In this notebook we show you how to create another agent on Amazon Bedrock.\n",
    "\n",
    "This agent will be a peak load manager agent, identifying non-essential processes that can be shifted to off-peak hours.\n",
    "\n",
    "The following represents the piece of architecture that will be built on this module.\n",
    "\n",
    "![Architecture](../img/lab3-architecture.png)"
   ]
  },
  {
   "cell_type": "markdown",
   "id": "b3ba49fa-3293-4ea6-8dee-fb9f410c6481",
   "metadata": {},
   "source": [
    "### Setup\n",
    "\n",
    "Firstly, you are going to install boto3 dependencies from pip. Make sure to have version superior of **1.35.45**"
   ]
  },
  {
   "cell_type": "code",
   "execution_count": null,
   "id": "a2436bab",
   "metadata": {},
   "outputs": [],
   "source": [
    "!pip uninstall boto3 botocore awscli --yes"
   ]
  },
  {
   "cell_type": "code",
   "execution_count": null,
   "id": "1abeca2c-3181-42c3-adc5-70f993fc7ab0",
   "metadata": {
    "scrolled": true
   },
   "outputs": [],
   "source": [
    "# Install Dependencies from local package\n",
    "!pip install ../boto3/botocore-1.35.55-py3-none-any.whl \\\n",
    "    ../boto3/boto3-1.35.55-py3-none-any.whl \\\n",
    "    ../boto3/awscli-1.35.21-py3-none-any.whl --force-reinstall --no-cache"
   ]
  },
  {
   "cell_type": "markdown",
   "id": "9cab0934-d025-47a2-a276-9d3fdb5a1d61",
   "metadata": {},
   "source": [
    "Restart kernel for packages to take effect"
   ]
  },
  {
   "cell_type": "code",
   "execution_count": null,
   "id": "c10d5b0b-fc4d-4733-a1cc-49ef6402785f",
   "metadata": {},
   "outputs": [],
   "source": [
    "import IPython\n",
    "\n",
    "IPython.Application.instance().kernel.do_shutdown(True)"
   ]
  },
  {
   "cell_type": "markdown",
   "id": "5f53cdf0",
   "metadata": {},
   "source": [
    "Check if your boto3 version is superior than **1.35.45**"
   ]
  },
  {
   "cell_type": "code",
   "execution_count": null,
   "id": "4cef0a80",
   "metadata": {},
   "outputs": [],
   "source": [
    "!pip freeze | grep boto3"
   ]
  },
  {
   "cell_type": "markdown",
   "id": "ccf37dd5-bfaf-4563-a6ad-f9d7637c6e43",
   "metadata": {},
   "source": [
    "### Creating Agent\n",
    "\n",
    "On this section we're going to declare global variables that will be act as helpers during entire notebook and you will start to create your agent."
   ]
  },
  {
   "cell_type": "code",
   "execution_count": 2,
   "id": "277a742a-5f17-4dfc-ac36-1b70ce8f4f7d",
   "metadata": {},
   "outputs": [],
   "source": [
    "import boto3\n",
    "import os\n",
    "import sys\n",
    "\n",
    "sts_client = boto3.client('sts')\n",
    "session = boto3.session.Session()\n",
    "\n",
    "account_id = sts_client.get_caller_identity()[\"Account\"]\n",
    "region = session.region_name\n",
    "\n",
    "agent_foundation_model = ['anthropic.claude-3-5-sonnet-20240620-v1:0']\n",
    "#agent_foundation_model = ['anthropic.claude-3-5-haiku-20241022-v1:0']"
   ]
  },
  {
   "cell_type": "code",
   "execution_count": 3,
   "id": "a27cc6c8-4faa-4adc-90c8-7ace112877e1",
   "metadata": {},
   "outputs": [],
   "source": [
    "peak_agent_name = f\"peak-agent-{account_id}\"\n",
    "\n",
    "peak_lambda_name = f\"fn-peak-agent-{account_id}\"\n",
    "\n",
    "peak_agent_role_name = f'AmazonBedrockExecutionRoleForAgents_{peak_agent_name}'"
   ]
  },
  {
   "cell_type": "markdown",
   "id": "383b71fc",
   "metadata": {},
   "source": [
    "On following section, we're adding `agents.py` on Python path, so the file can be recognized and invoked."
   ]
  },
  {
   "cell_type": "code",
   "execution_count": 4,
   "id": "21a3648b",
   "metadata": {},
   "outputs": [],
   "source": [
    "# Get the current file's directory\n",
    "current_dir = os.path.dirname(os.path.abspath('__file__'))\n",
    "\n",
    "parent_dir = os.path.dirname(current_dir)\n",
    "#print(parent_dir)\n",
    "\n",
    "# Add the parent directory to sys.path\n",
    "sys.path.append(parent_dir)"
   ]
  },
  {
   "cell_type": "markdown",
   "id": "1c017998",
   "metadata": {},
   "source": [
    "Now, you're going to import from helper file `agents.py` AgentsForAmazonBedrock helper class.\n",
    "\n",
    "This class is a helper totally focused on make labs experience smoothly. \n",
    "\n",
    "All interactions with Bedrock will be handled by this class.\n",
    "\n",
    "Following are methods that you're going to invoke on this lab:\n",
    "\n",
    "- create_agent: Create a new agent and respective IAM roles\n",
    "- add_action_group_with_lambda: Create a lambda function and add it as an action group for a previous created agent\n",
    "- create_agent_alias: Create an alias for this agent\n",
    "- invoke: Execute agent"
   ]
  },
  {
   "cell_type": "code",
   "execution_count": 5,
   "id": "bcad12b0",
   "metadata": {},
   "outputs": [],
   "source": [
    "from agent import AgentsForAmazonBedrock\n",
    "\n",
    "agents = AgentsForAmazonBedrock()"
   ]
  },
  {
   "cell_type": "markdown",
   "id": "d5fbbb35",
   "metadata": {},
   "source": [
    "Create the peak load manager agent"
   ]
  },
  {
   "cell_type": "code",
   "execution_count": 48,
   "id": "e1e168c8-180f-4977-96dd-d8006436208b",
   "metadata": {},
   "outputs": [
    {
     "data": {
      "text/plain": [
       "'H51N1PCTZ1'"
      ]
     },
     "execution_count": 48,
     "metadata": {},
     "output_type": "execute_result"
    }
   ],
   "source": [
    "peak_agent_id = agents.create_agent(\n",
    "    peak_agent_name, \n",
    "    \"\"\"\n",
    "        You are a peak load manager bot. \n",
    "        You can retrieve information from IoT devices, identify process and their consumption and suggest shifts to off-peak hours.\n",
    "    \"\"\", \n",
    "    \"\"\"\n",
    "        You are a peak load manager bot. \n",
    "        You can retrieve information from IoT devices, identify process and their consumption and suggest shifts to off-peak hours.\n",
    "        Resist the temptation to ask the user for input. Only do so after you have exhausted available actions. \n",
    "        Never ask the user for information that you already can retrieve yourself through available actions. \n",
    "\n",
    "    \"\"\",\n",
    "    agent_foundation_model\n",
    ")\n",
    "\n",
    "peak_agent_id"
   ]
  },
  {
   "cell_type": "markdown",
   "id": "67dfcc57-5958-45e8-a4ea-53620142c017",
   "metadata": {},
   "source": [
    "### Creating Lambda\n",
    "\n",
    "On this block, we're going to generate Lambda function Code and associate it with created agent."
   ]
  },
  {
   "cell_type": "code",
   "execution_count": 49,
   "id": "d2cfc71d-4b0e-4b00-9159-cc3efd2becbc",
   "metadata": {},
   "outputs": [
    {
     "name": "stdout",
     "output_type": "stream",
     "text": [
      "Writing peak_load.py\n"
     ]
    }
   ],
   "source": [
    "%%writefile peak_load.py\n",
    "import json\n",
    "import random\n",
    "\n",
    "PEAK_LIST = ['fridge','bathtub','iron','dry-machine','car charger socket','light bulbs','gardening electrical system']\n",
    "\n",
    "def get_named_parameter(event, name):\n",
    "    return next(item for item in event['parameters'] if item['name'] == name)['value']\n",
    "    \n",
    "def populate_function_response(event, response_body):\n",
    "    return {'response': {'actionGroup': event['actionGroup'], 'function': event['function'],\n",
    "                'functionResponse': {'responseBody': {'TEXT': {'body': str(response_body)}}}}}\n",
    "\n",
    "def get_consumption_info(customer_id):\n",
    "    # TODO: Implement real business logic\n",
    "\n",
    "    return [\n",
    "        {\n",
    "         \"monthly_avg\": \"150kw\",\n",
    "         \"monthly_p90\": \"140kw\",\n",
    "         \"monthly_max\": \"440kw\",\n",
    "         \"monthly_mix\": \"90kw\",\n",
    "         \"peak_load_day\": \"55kw\",\n",
    "         \"price_per_kw\": '%.2f'%(random.uniform(1.0, 20.0)),\n",
    "         \"peak_item\": PEAK_LIST[random.randint(0, 6)]\n",
    "        }\n",
    "    ]\n",
    "\n",
    "def lambda_handler(event, context):\n",
    "    print(event)\n",
    "    \n",
    "    # name of the function that should be invoked\n",
    "    function = event.get('function', '')\n",
    "\n",
    "    # parameters to invoke function with\n",
    "    parameters = event.get('parameters', [])\n",
    "    \n",
    "    if function == 'get_consumption_info':\n",
    "        customer_id = get_named_parameter(event, \"customer_id\")\n",
    "        result = get_consumption_info(customer_id)\n",
    "    else:\n",
    "        result = f\"Error, function '{function}' not recognized\"\n",
    "\n",
    "    response = populate_function_response(event, result)\n",
    "    print(response)\n",
    "    return response"
   ]
  },
  {
   "cell_type": "markdown",
   "id": "566ff86c-e2c8-475a-833e-e0bc359c5767",
   "metadata": {},
   "source": [
    "Add lambda as an action group for this agent and prepare it."
   ]
  },
  {
   "cell_type": "code",
   "execution_count": 50,
   "id": "d45c21c0-7a28-417c-a506-021a57b73596",
   "metadata": {},
   "outputs": [],
   "source": [
    "resp = agents.add_action_group_with_lambda(\n",
    "            peak_agent_name, \n",
    "            peak_lambda_name, \n",
    "            \"peak_load.py\", \n",
    "            [\n",
    "                {\n",
    "                    \"name\": \"get_consumption_info\",\n",
    "                    \"description\": \"\"\"Retrieves usage information like price,  \n",
    "                                      avg, p90, peak_load\"\"\",\n",
    "                    \"parameters\": {\n",
    "                                    \"customer_id\": {\n",
    "                                        \"description\": \"The ID of the customer\",\n",
    "                                        \"required\": True,\n",
    "                                        \"type\": \"string\"\n",
    "                                    }\n",
    "                                }\n",
    "                }\n",
    "            ], \n",
    "            \"forecast_consumption_actions\", \n",
    "            \"Function to get usage forecast for a user \"\n",
    "            )"
   ]
  },
  {
   "cell_type": "markdown",
   "id": "3d6a8d36-cb73-4e95-b345-dbaf4631f42e",
   "metadata": {},
   "source": [
    "### Create alias\n",
    "\n",
    "Create an alias that will be used further on multi-agent collaborator feature:"
   ]
  },
  {
   "cell_type": "code",
   "execution_count": 51,
   "id": "eec0d1ca",
   "metadata": {},
   "outputs": [],
   "source": [
    "agents_boto3 = boto3.client('bedrock-agent',\n",
    "                            region_name=region)\n",
    "\n",
    "peak_agent_alias_resp = agents_boto3.create_agent_alias(agentId=peak_agent_id, \n",
    "                                                              agentAliasName='v1')"
   ]
  },
  {
   "cell_type": "code",
   "execution_count": null,
   "id": "da84a8d1-94d6-4955-8c39-1c5d79e68c63",
   "metadata": {},
   "outputs": [],
   "source": [
    "# create alias\n",
    "#consumption_agent_alias_arn = agents.create_agent_alias(consumption_agent_id, 'v1')"
   ]
  },
  {
   "cell_type": "markdown",
   "id": "fdbc0aff",
   "metadata": {},
   "source": [
    "### Invoking Agent\n",
    "\n",
    "Now, let's run some tests on agent to make sure it's working:"
   ]
  },
  {
   "cell_type": "code",
   "execution_count": 52,
   "id": "9b69a4c5",
   "metadata": {},
   "outputs": [
    {
     "name": "stdout",
     "output_type": "stream",
     "text": [
      "Based on the information retrieved, your peak load is primarily caused by your gardening electrical system. Your monthly maximum consumption reached 440kW, with a daily peak load of 55kW. The price per kW is $3.71, so your peak consumption is costing you significantly more than your average usage. To calculate the exact amount spent on peak load, we'd need more detailed billing information, but it's clear that reducing the usage of your gardening electrical system during peak hours could lead to substantial savings.\n",
      "CPU times: user 29.4 ms, sys: 4.25 ms, total: 33.7 ms\n",
      "Wall time: 10.1 s\n"
     ]
    }
   ],
   "source": [
    "%%time\n",
    "print(agents.invoke(\"What's causing my peak load and how much I've spent on it? My id is 45\", \n",
    "                    peak_agent_id)\n",
    ")"
   ]
  },
  {
   "cell_type": "markdown",
   "id": "29db93eb-9a51-48d2-a6ae-a31b7b5ddde1",
   "metadata": {},
   "source": [
    "Store environment variables to be used on next notebooks."
   ]
  },
  {
   "cell_type": "code",
   "execution_count": null,
   "id": "66d40844-c72b-4114-8415-8cefbe65ebb1",
   "metadata": {},
   "outputs": [],
   "source": [
    "peak_agent_arn = agents.get_agent_arn_by_name(peak_agent_name)\n",
    "peak_agent_alias_arn = peak_agent_alias_resp['agentAlias']['agentAliasArn']\n",
    "peak_agent_alias_id = peak_agent_alias_resp['agentAlias']['agentAliasId']\n",
    "\n",
    "%store peak_agent_arn\n",
    "%store peak_agent_alias_arn\n",
    "%store peak_agent_alias_id\n",
    "%store peak_lambda_name\n",
    "%store peak_agent_name\n",
    "%store peak_agent_id"
   ]
  },
  {
   "cell_type": "code",
   "execution_count": 54,
   "id": "99986c91",
   "metadata": {},
   "outputs": [
    {
     "data": {
      "text/plain": [
       "('arn:aws:bedrock:us-west-2:471112746845:agent/H51N1PCTZ1',\n",
       " 'arn:aws:bedrock:us-west-2:471112746845:agent-alias/H51N1PCTZ1/ZMESLWDRP5',\n",
       " 'ZMESLWDRP5')"
      ]
     },
     "execution_count": 54,
     "metadata": {},
     "output_type": "execute_result"
    }
   ],
   "source": [
    "peak_agent_arn, peak_agent_alias_arn, peak_agent_alias_id"
   ]
  },
  {
   "cell_type": "markdown",
   "id": "e5327b71",
   "metadata": {},
   "source": [
    "### Clean Up"
   ]
  },
  {
   "cell_type": "code",
   "execution_count": 5,
   "id": "62dba01a",
   "metadata": {},
   "outputs": [],
   "source": [
    "agents.delete_lambda(peak_lambda_name)"
   ]
  },
  {
   "cell_type": "code",
   "execution_count": null,
   "id": "12b36a35",
   "metadata": {},
   "outputs": [],
   "source": [
    "agents.delete_agent_alias(peak_agent_alias_id, peak_agent_id)"
   ]
  },
  {
   "cell_type": "code",
   "execution_count": null,
   "id": "a62c723e",
   "metadata": {},
   "outputs": [],
   "source": [
    "agents.delete_agent(peak_agent_name)"
   ]
  }
 ],
 "metadata": {
  "kernelspec": {
   "display_name": "Python 3 (ipykernel)",
   "language": "python",
   "name": "python3"
  },
  "language_info": {
   "codemirror_mode": {
    "name": "ipython",
    "version": 3
   },
   "file_extension": ".py",
   "mimetype": "text/x-python",
   "name": "python",
   "nbconvert_exporter": "python",
   "pygments_lexer": "ipython3",
   "version": "3.11.7"
  }
 },
 "nbformat": 4,
 "nbformat_minor": 5
}
